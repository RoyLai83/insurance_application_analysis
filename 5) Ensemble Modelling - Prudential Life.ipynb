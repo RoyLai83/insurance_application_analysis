{
 "cells": [
  {
   "cell_type": "markdown",
   "metadata": {},
   "source": [
    "# Ensemble Modelling - Prudential Life"
   ]
  },
  {
   "cell_type": "markdown",
   "metadata": {},
   "source": [
    "## Importing Packages and loading into DF"
   ]
  },
  {
   "cell_type": "code",
   "execution_count": 19,
   "metadata": {},
   "outputs": [],
   "source": [
    "from __future__ import print_function\n",
    "import timeit\n",
    "\n",
    "from sklearn.model_selection import learning_curve, ShuffleSplit\n",
    "import pandas as pd\n",
    "import seaborn as sns\n",
    "import matplotlib.pyplot as plt\n",
    "import numpy as np\n",
    "import scipy.stats as stats\n",
    "\n",
    "%matplotlib inline\n",
    "\n",
    "from xgboost import XGBClassifier\n",
    "from sklearn import metrics\n",
    "from sklearn.model_selection import train_test_split, cross_val_score, cross_val_predict\n",
    "from sklearn.preprocessing import StandardScaler\n",
    "from sklearn.linear_model import LogisticRegression, LogisticRegressionCV\n",
    "from sklearn.neighbors import KNeighborsClassifier\n",
    "\n",
    "from sklearn.svm import SVC\n",
    "from sklearn.model_selection import GridSearchCV\n",
    "from sklearn.metrics import confusion_matrix, mean_squared_error\n",
    "from sklearn.ensemble import VotingClassifier, RandomForestClassifier, GradientBoostingClassifier\n",
    "import sklearn.ensemble\n",
    "import xgboost as xgb\n",
    "from sklearn.ensemble import ExtraTreesClassifier\n",
    "# from imblearn.over_sampling import SMOTE\n",
    "\n",
    "from sklearn.metrics import log_loss\n",
    "\n",
    "import lime\n",
    "import lime.lime_tabular\n",
    "\n",
    "pd.set_option('display.max_columns',500)\n",
    "pd.set_option('display.max_rows',500)"
   ]
  },
  {
   "cell_type": "code",
   "execution_count": 2,
   "metadata": {},
   "outputs": [],
   "source": [
    "ins_data = './dataset/train.csv'\n",
    "ins = pd.read_csv(ins_data)\n",
    "# ins_test_data = './dataset/test.csv'\n",
    "# ins_test = pd.read_csv(ins_test_data)"
   ]
  },
  {
   "cell_type": "code",
   "execution_count": 3,
   "metadata": {},
   "outputs": [
    {
     "name": "stdout",
     "output_type": "stream",
     "text": [
      "(59381, 128)\n"
     ]
    }
   ],
   "source": [
    "print(ins.shape)\n",
    "# print(ins_test.shape)"
   ]
  },
  {
   "cell_type": "markdown",
   "metadata": {},
   "source": [
    "## Cleaing Data\n",
    "- Dropping Axis Column\n",
    "- Creating dummy for column Product_Info_2 column\n",
    "- Removing NaN values - where normally distributed, replacing with mean value, where other columns used meadian."
   ]
  },
  {
   "cell_type": "code",
   "execution_count": 4,
   "metadata": {},
   "outputs": [],
   "source": [
    "ins.drop('Id',axis=1,inplace=True)\n",
    "# ins_test.drop('Id',axis=1,inplace=True)"
   ]
  },
  {
   "cell_type": "code",
   "execution_count": 5,
   "metadata": {},
   "outputs": [],
   "source": [
    "ins.Product_Info_2.value_counts()\n",
    "prod_2 = {'A1':1,'A2':2,'A3':3,'A4':4,'A5':5,'A6':6,'A7':7,'A8':8,'B1':9,'B2':10,'C1':11,'C2':12,\n",
    "          'C3':13,'C4':14,'D1':15,'D2':16,'D3':17,'D4':18,'E1':19}\n",
    "\n",
    "ins.replace({\"Product_Info_2\": prod_2},inplace=True)"
   ]
  },
  {
   "cell_type": "code",
   "execution_count": 6,
   "metadata": {},
   "outputs": [],
   "source": [
    "for i in range(2,6):\n",
    "    ins['Family_Hist_%i' % i].fillna(0,inplace=True)\n",
    "#     ins_test['Family_Hist_%i' % i].fillna(0,inplace=True)\n",
    "\n",
    "for i in [1,10,15,24,32]:\n",
    "    ins['Medical_History_%i' % i].fillna(0,inplace=True)\n",
    "#     ins_test['Medical_History_%i' % i].fillna(0,inplace=True)\n",
    "\n",
    "for i in [1,4,6]:\n",
    "    ins['Employment_Info_%i' % i].fillna(0,inplace=True)\n",
    "#     ins_test['Employment_Info_%i' % i].fillna(0,inplace=True)\n",
    "\n",
    "ins['Insurance_History_5'].fillna(0,inplace=True)\n",
    "# ins_test['Insurance_History_5'].fillna(0,inplace=True)"
   ]
  },
  {
   "cell_type": "markdown",
   "metadata": {},
   "source": [
    "## Creating X and y for modelling"
   ]
  },
  {
   "cell_type": "code",
   "execution_count": 7,
   "metadata": {},
   "outputs": [
    {
     "data": {
      "text/html": [
       "<div>\n",
       "<style scoped>\n",
       "    .dataframe tbody tr th:only-of-type {\n",
       "        vertical-align: middle;\n",
       "    }\n",
       "\n",
       "    .dataframe tbody tr th {\n",
       "        vertical-align: top;\n",
       "    }\n",
       "\n",
       "    .dataframe thead th {\n",
       "        text-align: right;\n",
       "    }\n",
       "</style>\n",
       "<table border=\"1\" class=\"dataframe\">\n",
       "  <thead>\n",
       "    <tr style=\"text-align: right;\">\n",
       "      <th></th>\n",
       "      <th>Product_Info_1</th>\n",
       "      <th>Product_Info_2</th>\n",
       "      <th>Product_Info_3</th>\n",
       "      <th>Product_Info_4</th>\n",
       "      <th>Product_Info_5</th>\n",
       "      <th>Product_Info_6</th>\n",
       "      <th>Product_Info_7</th>\n",
       "      <th>Ins_Age</th>\n",
       "      <th>Ht</th>\n",
       "      <th>Wt</th>\n",
       "      <th>BMI</th>\n",
       "      <th>Employment_Info_1</th>\n",
       "      <th>Employment_Info_2</th>\n",
       "      <th>Employment_Info_3</th>\n",
       "      <th>Employment_Info_4</th>\n",
       "      <th>Employment_Info_5</th>\n",
       "      <th>Employment_Info_6</th>\n",
       "      <th>InsuredInfo_1</th>\n",
       "      <th>InsuredInfo_2</th>\n",
       "      <th>InsuredInfo_3</th>\n",
       "      <th>InsuredInfo_4</th>\n",
       "      <th>InsuredInfo_5</th>\n",
       "      <th>InsuredInfo_6</th>\n",
       "      <th>InsuredInfo_7</th>\n",
       "      <th>Insurance_History_1</th>\n",
       "      <th>Insurance_History_2</th>\n",
       "      <th>Insurance_History_3</th>\n",
       "      <th>Insurance_History_4</th>\n",
       "      <th>Insurance_History_5</th>\n",
       "      <th>Insurance_History_7</th>\n",
       "      <th>Insurance_History_8</th>\n",
       "      <th>Insurance_History_9</th>\n",
       "      <th>Family_Hist_1</th>\n",
       "      <th>Family_Hist_2</th>\n",
       "      <th>Family_Hist_3</th>\n",
       "      <th>Family_Hist_4</th>\n",
       "      <th>Family_Hist_5</th>\n",
       "      <th>Medical_History_1</th>\n",
       "      <th>Medical_History_2</th>\n",
       "      <th>Medical_History_3</th>\n",
       "      <th>Medical_History_4</th>\n",
       "      <th>Medical_History_5</th>\n",
       "      <th>Medical_History_6</th>\n",
       "      <th>Medical_History_7</th>\n",
       "      <th>Medical_History_8</th>\n",
       "      <th>Medical_History_9</th>\n",
       "      <th>Medical_History_10</th>\n",
       "      <th>Medical_History_11</th>\n",
       "      <th>Medical_History_12</th>\n",
       "      <th>Medical_History_13</th>\n",
       "      <th>Medical_History_14</th>\n",
       "      <th>Medical_History_15</th>\n",
       "      <th>Medical_History_16</th>\n",
       "      <th>Medical_History_17</th>\n",
       "      <th>Medical_History_18</th>\n",
       "      <th>Medical_History_19</th>\n",
       "      <th>Medical_History_20</th>\n",
       "      <th>Medical_History_21</th>\n",
       "      <th>Medical_History_22</th>\n",
       "      <th>Medical_History_23</th>\n",
       "      <th>Medical_History_24</th>\n",
       "      <th>Medical_History_25</th>\n",
       "      <th>Medical_History_26</th>\n",
       "      <th>Medical_History_27</th>\n",
       "      <th>Medical_History_28</th>\n",
       "      <th>Medical_History_29</th>\n",
       "      <th>Medical_History_30</th>\n",
       "      <th>Medical_History_31</th>\n",
       "      <th>Medical_History_32</th>\n",
       "      <th>Medical_History_33</th>\n",
       "      <th>Medical_History_34</th>\n",
       "      <th>Medical_History_35</th>\n",
       "      <th>Medical_History_36</th>\n",
       "      <th>Medical_History_37</th>\n",
       "      <th>Medical_History_38</th>\n",
       "      <th>Medical_History_39</th>\n",
       "      <th>Medical_History_40</th>\n",
       "      <th>Medical_History_41</th>\n",
       "      <th>Medical_Keyword_1</th>\n",
       "      <th>Medical_Keyword_2</th>\n",
       "      <th>Medical_Keyword_3</th>\n",
       "      <th>Medical_Keyword_4</th>\n",
       "      <th>Medical_Keyword_5</th>\n",
       "      <th>Medical_Keyword_6</th>\n",
       "      <th>Medical_Keyword_7</th>\n",
       "      <th>Medical_Keyword_8</th>\n",
       "      <th>Medical_Keyword_9</th>\n",
       "      <th>Medical_Keyword_10</th>\n",
       "      <th>Medical_Keyword_11</th>\n",
       "      <th>Medical_Keyword_12</th>\n",
       "      <th>Medical_Keyword_13</th>\n",
       "      <th>Medical_Keyword_14</th>\n",
       "      <th>Medical_Keyword_15</th>\n",
       "      <th>Medical_Keyword_16</th>\n",
       "      <th>Medical_Keyword_17</th>\n",
       "      <th>Medical_Keyword_18</th>\n",
       "      <th>Medical_Keyword_19</th>\n",
       "      <th>Medical_Keyword_20</th>\n",
       "      <th>Medical_Keyword_21</th>\n",
       "      <th>Medical_Keyword_22</th>\n",
       "      <th>Medical_Keyword_23</th>\n",
       "      <th>Medical_Keyword_24</th>\n",
       "      <th>Medical_Keyword_25</th>\n",
       "      <th>Medical_Keyword_26</th>\n",
       "      <th>Medical_Keyword_27</th>\n",
       "      <th>Medical_Keyword_28</th>\n",
       "      <th>Medical_Keyword_29</th>\n",
       "      <th>Medical_Keyword_30</th>\n",
       "      <th>Medical_Keyword_31</th>\n",
       "      <th>Medical_Keyword_32</th>\n",
       "      <th>Medical_Keyword_33</th>\n",
       "      <th>Medical_Keyword_34</th>\n",
       "      <th>Medical_Keyword_35</th>\n",
       "      <th>Medical_Keyword_36</th>\n",
       "      <th>Medical_Keyword_37</th>\n",
       "      <th>Medical_Keyword_38</th>\n",
       "      <th>Medical_Keyword_39</th>\n",
       "      <th>Medical_Keyword_40</th>\n",
       "      <th>Medical_Keyword_41</th>\n",
       "      <th>Medical_Keyword_42</th>\n",
       "      <th>Medical_Keyword_43</th>\n",
       "      <th>Medical_Keyword_44</th>\n",
       "      <th>Medical_Keyword_45</th>\n",
       "      <th>Medical_Keyword_46</th>\n",
       "      <th>Medical_Keyword_47</th>\n",
       "      <th>Medical_Keyword_48</th>\n",
       "      <th>Response</th>\n",
       "    </tr>\n",
       "  </thead>\n",
       "  <tbody>\n",
       "    <tr>\n",
       "      <th>0</th>\n",
       "      <td>1</td>\n",
       "      <td>17</td>\n",
       "      <td>10</td>\n",
       "      <td>0.076923</td>\n",
       "      <td>2</td>\n",
       "      <td>1</td>\n",
       "      <td>1</td>\n",
       "      <td>0.641791</td>\n",
       "      <td>0.581818</td>\n",
       "      <td>0.148536</td>\n",
       "      <td>0.323008</td>\n",
       "      <td>0.028</td>\n",
       "      <td>12</td>\n",
       "      <td>1</td>\n",
       "      <td>0.0</td>\n",
       "      <td>3</td>\n",
       "      <td>0.0000</td>\n",
       "      <td>1</td>\n",
       "      <td>2</td>\n",
       "      <td>6</td>\n",
       "      <td>3</td>\n",
       "      <td>1</td>\n",
       "      <td>2</td>\n",
       "      <td>1</td>\n",
       "      <td>1</td>\n",
       "      <td>1</td>\n",
       "      <td>3</td>\n",
       "      <td>1</td>\n",
       "      <td>0.000667</td>\n",
       "      <td>1</td>\n",
       "      <td>1</td>\n",
       "      <td>2</td>\n",
       "      <td>2</td>\n",
       "      <td>0.000000</td>\n",
       "      <td>0.598039</td>\n",
       "      <td>0.000000</td>\n",
       "      <td>0.526786</td>\n",
       "      <td>4.0</td>\n",
       "      <td>112</td>\n",
       "      <td>2</td>\n",
       "      <td>1</td>\n",
       "      <td>1</td>\n",
       "      <td>3</td>\n",
       "      <td>2</td>\n",
       "      <td>2</td>\n",
       "      <td>1</td>\n",
       "      <td>0.0</td>\n",
       "      <td>3</td>\n",
       "      <td>2</td>\n",
       "      <td>3</td>\n",
       "      <td>3</td>\n",
       "      <td>240.0</td>\n",
       "      <td>3</td>\n",
       "      <td>3</td>\n",
       "      <td>1</td>\n",
       "      <td>1</td>\n",
       "      <td>2</td>\n",
       "      <td>1</td>\n",
       "      <td>2</td>\n",
       "      <td>3</td>\n",
       "      <td>0.0</td>\n",
       "      <td>1</td>\n",
       "      <td>3</td>\n",
       "      <td>3</td>\n",
       "      <td>1</td>\n",
       "      <td>3</td>\n",
       "      <td>2</td>\n",
       "      <td>3</td>\n",
       "      <td>0.0</td>\n",
       "      <td>1</td>\n",
       "      <td>3</td>\n",
       "      <td>1</td>\n",
       "      <td>2</td>\n",
       "      <td>2</td>\n",
       "      <td>1</td>\n",
       "      <td>3</td>\n",
       "      <td>3</td>\n",
       "      <td>3</td>\n",
       "      <td>0</td>\n",
       "      <td>0</td>\n",
       "      <td>0</td>\n",
       "      <td>0</td>\n",
       "      <td>0</td>\n",
       "      <td>0</td>\n",
       "      <td>0</td>\n",
       "      <td>0</td>\n",
       "      <td>0</td>\n",
       "      <td>0</td>\n",
       "      <td>0</td>\n",
       "      <td>0</td>\n",
       "      <td>0</td>\n",
       "      <td>0</td>\n",
       "      <td>0</td>\n",
       "      <td>0</td>\n",
       "      <td>0</td>\n",
       "      <td>0</td>\n",
       "      <td>0</td>\n",
       "      <td>0</td>\n",
       "      <td>0</td>\n",
       "      <td>0</td>\n",
       "      <td>0</td>\n",
       "      <td>0</td>\n",
       "      <td>0</td>\n",
       "      <td>0</td>\n",
       "      <td>0</td>\n",
       "      <td>0</td>\n",
       "      <td>0</td>\n",
       "      <td>0</td>\n",
       "      <td>0</td>\n",
       "      <td>0</td>\n",
       "      <td>0</td>\n",
       "      <td>0</td>\n",
       "      <td>0</td>\n",
       "      <td>0</td>\n",
       "      <td>0</td>\n",
       "      <td>0</td>\n",
       "      <td>0</td>\n",
       "      <td>0</td>\n",
       "      <td>0</td>\n",
       "      <td>0</td>\n",
       "      <td>0</td>\n",
       "      <td>0</td>\n",
       "      <td>0</td>\n",
       "      <td>0</td>\n",
       "      <td>0</td>\n",
       "      <td>0</td>\n",
       "      <td>8</td>\n",
       "    </tr>\n",
       "    <tr>\n",
       "      <th>1</th>\n",
       "      <td>1</td>\n",
       "      <td>1</td>\n",
       "      <td>26</td>\n",
       "      <td>0.076923</td>\n",
       "      <td>2</td>\n",
       "      <td>3</td>\n",
       "      <td>1</td>\n",
       "      <td>0.059701</td>\n",
       "      <td>0.600000</td>\n",
       "      <td>0.131799</td>\n",
       "      <td>0.272288</td>\n",
       "      <td>0.000</td>\n",
       "      <td>1</td>\n",
       "      <td>3</td>\n",
       "      <td>0.0</td>\n",
       "      <td>2</td>\n",
       "      <td>0.0018</td>\n",
       "      <td>1</td>\n",
       "      <td>2</td>\n",
       "      <td>6</td>\n",
       "      <td>3</td>\n",
       "      <td>1</td>\n",
       "      <td>2</td>\n",
       "      <td>1</td>\n",
       "      <td>2</td>\n",
       "      <td>1</td>\n",
       "      <td>3</td>\n",
       "      <td>1</td>\n",
       "      <td>0.000133</td>\n",
       "      <td>1</td>\n",
       "      <td>3</td>\n",
       "      <td>2</td>\n",
       "      <td>2</td>\n",
       "      <td>0.188406</td>\n",
       "      <td>0.000000</td>\n",
       "      <td>0.084507</td>\n",
       "      <td>0.000000</td>\n",
       "      <td>5.0</td>\n",
       "      <td>412</td>\n",
       "      <td>2</td>\n",
       "      <td>1</td>\n",
       "      <td>1</td>\n",
       "      <td>3</td>\n",
       "      <td>2</td>\n",
       "      <td>2</td>\n",
       "      <td>1</td>\n",
       "      <td>0.0</td>\n",
       "      <td>3</td>\n",
       "      <td>2</td>\n",
       "      <td>3</td>\n",
       "      <td>3</td>\n",
       "      <td>0.0</td>\n",
       "      <td>1</td>\n",
       "      <td>3</td>\n",
       "      <td>1</td>\n",
       "      <td>1</td>\n",
       "      <td>2</td>\n",
       "      <td>1</td>\n",
       "      <td>2</td>\n",
       "      <td>3</td>\n",
       "      <td>0.0</td>\n",
       "      <td>1</td>\n",
       "      <td>3</td>\n",
       "      <td>3</td>\n",
       "      <td>1</td>\n",
       "      <td>3</td>\n",
       "      <td>2</td>\n",
       "      <td>3</td>\n",
       "      <td>0.0</td>\n",
       "      <td>3</td>\n",
       "      <td>1</td>\n",
       "      <td>1</td>\n",
       "      <td>2</td>\n",
       "      <td>2</td>\n",
       "      <td>1</td>\n",
       "      <td>3</td>\n",
       "      <td>3</td>\n",
       "      <td>1</td>\n",
       "      <td>0</td>\n",
       "      <td>0</td>\n",
       "      <td>0</td>\n",
       "      <td>0</td>\n",
       "      <td>0</td>\n",
       "      <td>0</td>\n",
       "      <td>0</td>\n",
       "      <td>0</td>\n",
       "      <td>0</td>\n",
       "      <td>0</td>\n",
       "      <td>0</td>\n",
       "      <td>0</td>\n",
       "      <td>0</td>\n",
       "      <td>0</td>\n",
       "      <td>0</td>\n",
       "      <td>0</td>\n",
       "      <td>0</td>\n",
       "      <td>0</td>\n",
       "      <td>0</td>\n",
       "      <td>0</td>\n",
       "      <td>0</td>\n",
       "      <td>0</td>\n",
       "      <td>0</td>\n",
       "      <td>0</td>\n",
       "      <td>0</td>\n",
       "      <td>0</td>\n",
       "      <td>0</td>\n",
       "      <td>0</td>\n",
       "      <td>0</td>\n",
       "      <td>0</td>\n",
       "      <td>0</td>\n",
       "      <td>0</td>\n",
       "      <td>0</td>\n",
       "      <td>0</td>\n",
       "      <td>0</td>\n",
       "      <td>0</td>\n",
       "      <td>0</td>\n",
       "      <td>0</td>\n",
       "      <td>0</td>\n",
       "      <td>0</td>\n",
       "      <td>0</td>\n",
       "      <td>0</td>\n",
       "      <td>0</td>\n",
       "      <td>0</td>\n",
       "      <td>0</td>\n",
       "      <td>0</td>\n",
       "      <td>0</td>\n",
       "      <td>0</td>\n",
       "      <td>4</td>\n",
       "    </tr>\n",
       "    <tr>\n",
       "      <th>2</th>\n",
       "      <td>1</td>\n",
       "      <td>19</td>\n",
       "      <td>26</td>\n",
       "      <td>0.076923</td>\n",
       "      <td>2</td>\n",
       "      <td>3</td>\n",
       "      <td>1</td>\n",
       "      <td>0.029851</td>\n",
       "      <td>0.745455</td>\n",
       "      <td>0.288703</td>\n",
       "      <td>0.428780</td>\n",
       "      <td>0.030</td>\n",
       "      <td>9</td>\n",
       "      <td>1</td>\n",
       "      <td>0.0</td>\n",
       "      <td>2</td>\n",
       "      <td>0.0300</td>\n",
       "      <td>1</td>\n",
       "      <td>2</td>\n",
       "      <td>8</td>\n",
       "      <td>3</td>\n",
       "      <td>1</td>\n",
       "      <td>1</td>\n",
       "      <td>1</td>\n",
       "      <td>2</td>\n",
       "      <td>1</td>\n",
       "      <td>1</td>\n",
       "      <td>3</td>\n",
       "      <td>0.000000</td>\n",
       "      <td>3</td>\n",
       "      <td>2</td>\n",
       "      <td>3</td>\n",
       "      <td>3</td>\n",
       "      <td>0.304348</td>\n",
       "      <td>0.000000</td>\n",
       "      <td>0.225352</td>\n",
       "      <td>0.000000</td>\n",
       "      <td>10.0</td>\n",
       "      <td>3</td>\n",
       "      <td>2</td>\n",
       "      <td>2</td>\n",
       "      <td>1</td>\n",
       "      <td>3</td>\n",
       "      <td>2</td>\n",
       "      <td>2</td>\n",
       "      <td>2</td>\n",
       "      <td>0.0</td>\n",
       "      <td>3</td>\n",
       "      <td>2</td>\n",
       "      <td>3</td>\n",
       "      <td>3</td>\n",
       "      <td>0.0</td>\n",
       "      <td>1</td>\n",
       "      <td>3</td>\n",
       "      <td>1</td>\n",
       "      <td>1</td>\n",
       "      <td>2</td>\n",
       "      <td>1</td>\n",
       "      <td>2</td>\n",
       "      <td>3</td>\n",
       "      <td>0.0</td>\n",
       "      <td>2</td>\n",
       "      <td>2</td>\n",
       "      <td>3</td>\n",
       "      <td>1</td>\n",
       "      <td>3</td>\n",
       "      <td>2</td>\n",
       "      <td>3</td>\n",
       "      <td>0.0</td>\n",
       "      <td>3</td>\n",
       "      <td>3</td>\n",
       "      <td>1</td>\n",
       "      <td>3</td>\n",
       "      <td>2</td>\n",
       "      <td>1</td>\n",
       "      <td>3</td>\n",
       "      <td>3</td>\n",
       "      <td>1</td>\n",
       "      <td>0</td>\n",
       "      <td>0</td>\n",
       "      <td>0</td>\n",
       "      <td>0</td>\n",
       "      <td>0</td>\n",
       "      <td>0</td>\n",
       "      <td>0</td>\n",
       "      <td>0</td>\n",
       "      <td>0</td>\n",
       "      <td>0</td>\n",
       "      <td>0</td>\n",
       "      <td>0</td>\n",
       "      <td>0</td>\n",
       "      <td>0</td>\n",
       "      <td>0</td>\n",
       "      <td>0</td>\n",
       "      <td>0</td>\n",
       "      <td>0</td>\n",
       "      <td>0</td>\n",
       "      <td>0</td>\n",
       "      <td>0</td>\n",
       "      <td>0</td>\n",
       "      <td>0</td>\n",
       "      <td>0</td>\n",
       "      <td>0</td>\n",
       "      <td>0</td>\n",
       "      <td>0</td>\n",
       "      <td>0</td>\n",
       "      <td>0</td>\n",
       "      <td>0</td>\n",
       "      <td>0</td>\n",
       "      <td>0</td>\n",
       "      <td>0</td>\n",
       "      <td>0</td>\n",
       "      <td>0</td>\n",
       "      <td>0</td>\n",
       "      <td>0</td>\n",
       "      <td>0</td>\n",
       "      <td>0</td>\n",
       "      <td>0</td>\n",
       "      <td>0</td>\n",
       "      <td>0</td>\n",
       "      <td>0</td>\n",
       "      <td>0</td>\n",
       "      <td>0</td>\n",
       "      <td>0</td>\n",
       "      <td>0</td>\n",
       "      <td>0</td>\n",
       "      <td>8</td>\n",
       "    </tr>\n",
       "    <tr>\n",
       "      <th>3</th>\n",
       "      <td>1</td>\n",
       "      <td>18</td>\n",
       "      <td>10</td>\n",
       "      <td>0.487179</td>\n",
       "      <td>2</td>\n",
       "      <td>3</td>\n",
       "      <td>1</td>\n",
       "      <td>0.164179</td>\n",
       "      <td>0.672727</td>\n",
       "      <td>0.205021</td>\n",
       "      <td>0.352438</td>\n",
       "      <td>0.042</td>\n",
       "      <td>9</td>\n",
       "      <td>1</td>\n",
       "      <td>0.0</td>\n",
       "      <td>3</td>\n",
       "      <td>0.2000</td>\n",
       "      <td>2</td>\n",
       "      <td>2</td>\n",
       "      <td>8</td>\n",
       "      <td>3</td>\n",
       "      <td>1</td>\n",
       "      <td>2</td>\n",
       "      <td>1</td>\n",
       "      <td>2</td>\n",
       "      <td>1</td>\n",
       "      <td>1</td>\n",
       "      <td>3</td>\n",
       "      <td>0.000000</td>\n",
       "      <td>3</td>\n",
       "      <td>2</td>\n",
       "      <td>3</td>\n",
       "      <td>3</td>\n",
       "      <td>0.420290</td>\n",
       "      <td>0.000000</td>\n",
       "      <td>0.352113</td>\n",
       "      <td>0.000000</td>\n",
       "      <td>0.0</td>\n",
       "      <td>350</td>\n",
       "      <td>2</td>\n",
       "      <td>2</td>\n",
       "      <td>1</td>\n",
       "      <td>3</td>\n",
       "      <td>2</td>\n",
       "      <td>2</td>\n",
       "      <td>2</td>\n",
       "      <td>0.0</td>\n",
       "      <td>3</td>\n",
       "      <td>2</td>\n",
       "      <td>3</td>\n",
       "      <td>3</td>\n",
       "      <td>0.0</td>\n",
       "      <td>1</td>\n",
       "      <td>3</td>\n",
       "      <td>1</td>\n",
       "      <td>1</td>\n",
       "      <td>2</td>\n",
       "      <td>2</td>\n",
       "      <td>2</td>\n",
       "      <td>3</td>\n",
       "      <td>0.0</td>\n",
       "      <td>1</td>\n",
       "      <td>3</td>\n",
       "      <td>3</td>\n",
       "      <td>1</td>\n",
       "      <td>3</td>\n",
       "      <td>2</td>\n",
       "      <td>3</td>\n",
       "      <td>0.0</td>\n",
       "      <td>3</td>\n",
       "      <td>3</td>\n",
       "      <td>1</td>\n",
       "      <td>2</td>\n",
       "      <td>2</td>\n",
       "      <td>1</td>\n",
       "      <td>3</td>\n",
       "      <td>3</td>\n",
       "      <td>1</td>\n",
       "      <td>0</td>\n",
       "      <td>0</td>\n",
       "      <td>0</td>\n",
       "      <td>0</td>\n",
       "      <td>0</td>\n",
       "      <td>0</td>\n",
       "      <td>0</td>\n",
       "      <td>0</td>\n",
       "      <td>0</td>\n",
       "      <td>0</td>\n",
       "      <td>0</td>\n",
       "      <td>0</td>\n",
       "      <td>0</td>\n",
       "      <td>0</td>\n",
       "      <td>0</td>\n",
       "      <td>0</td>\n",
       "      <td>0</td>\n",
       "      <td>0</td>\n",
       "      <td>0</td>\n",
       "      <td>0</td>\n",
       "      <td>0</td>\n",
       "      <td>0</td>\n",
       "      <td>0</td>\n",
       "      <td>0</td>\n",
       "      <td>0</td>\n",
       "      <td>0</td>\n",
       "      <td>0</td>\n",
       "      <td>0</td>\n",
       "      <td>0</td>\n",
       "      <td>0</td>\n",
       "      <td>0</td>\n",
       "      <td>1</td>\n",
       "      <td>0</td>\n",
       "      <td>0</td>\n",
       "      <td>0</td>\n",
       "      <td>0</td>\n",
       "      <td>0</td>\n",
       "      <td>0</td>\n",
       "      <td>0</td>\n",
       "      <td>0</td>\n",
       "      <td>0</td>\n",
       "      <td>0</td>\n",
       "      <td>0</td>\n",
       "      <td>0</td>\n",
       "      <td>0</td>\n",
       "      <td>0</td>\n",
       "      <td>0</td>\n",
       "      <td>0</td>\n",
       "      <td>8</td>\n",
       "    </tr>\n",
       "    <tr>\n",
       "      <th>4</th>\n",
       "      <td>1</td>\n",
       "      <td>16</td>\n",
       "      <td>26</td>\n",
       "      <td>0.230769</td>\n",
       "      <td>2</td>\n",
       "      <td>3</td>\n",
       "      <td>1</td>\n",
       "      <td>0.417910</td>\n",
       "      <td>0.654545</td>\n",
       "      <td>0.234310</td>\n",
       "      <td>0.424046</td>\n",
       "      <td>0.027</td>\n",
       "      <td>9</td>\n",
       "      <td>1</td>\n",
       "      <td>0.0</td>\n",
       "      <td>2</td>\n",
       "      <td>0.0500</td>\n",
       "      <td>1</td>\n",
       "      <td>2</td>\n",
       "      <td>6</td>\n",
       "      <td>3</td>\n",
       "      <td>1</td>\n",
       "      <td>2</td>\n",
       "      <td>1</td>\n",
       "      <td>2</td>\n",
       "      <td>1</td>\n",
       "      <td>1</td>\n",
       "      <td>3</td>\n",
       "      <td>0.000000</td>\n",
       "      <td>3</td>\n",
       "      <td>2</td>\n",
       "      <td>3</td>\n",
       "      <td>2</td>\n",
       "      <td>0.463768</td>\n",
       "      <td>0.000000</td>\n",
       "      <td>0.408451</td>\n",
       "      <td>0.000000</td>\n",
       "      <td>0.0</td>\n",
       "      <td>162</td>\n",
       "      <td>2</td>\n",
       "      <td>2</td>\n",
       "      <td>1</td>\n",
       "      <td>3</td>\n",
       "      <td>2</td>\n",
       "      <td>2</td>\n",
       "      <td>2</td>\n",
       "      <td>0.0</td>\n",
       "      <td>3</td>\n",
       "      <td>2</td>\n",
       "      <td>3</td>\n",
       "      <td>3</td>\n",
       "      <td>0.0</td>\n",
       "      <td>1</td>\n",
       "      <td>3</td>\n",
       "      <td>1</td>\n",
       "      <td>1</td>\n",
       "      <td>2</td>\n",
       "      <td>1</td>\n",
       "      <td>2</td>\n",
       "      <td>3</td>\n",
       "      <td>0.0</td>\n",
       "      <td>2</td>\n",
       "      <td>2</td>\n",
       "      <td>3</td>\n",
       "      <td>1</td>\n",
       "      <td>3</td>\n",
       "      <td>2</td>\n",
       "      <td>3</td>\n",
       "      <td>0.0</td>\n",
       "      <td>3</td>\n",
       "      <td>3</td>\n",
       "      <td>1</td>\n",
       "      <td>3</td>\n",
       "      <td>2</td>\n",
       "      <td>1</td>\n",
       "      <td>3</td>\n",
       "      <td>3</td>\n",
       "      <td>1</td>\n",
       "      <td>0</td>\n",
       "      <td>0</td>\n",
       "      <td>0</td>\n",
       "      <td>0</td>\n",
       "      <td>0</td>\n",
       "      <td>0</td>\n",
       "      <td>0</td>\n",
       "      <td>0</td>\n",
       "      <td>0</td>\n",
       "      <td>0</td>\n",
       "      <td>0</td>\n",
       "      <td>0</td>\n",
       "      <td>0</td>\n",
       "      <td>0</td>\n",
       "      <td>0</td>\n",
       "      <td>0</td>\n",
       "      <td>0</td>\n",
       "      <td>0</td>\n",
       "      <td>0</td>\n",
       "      <td>0</td>\n",
       "      <td>0</td>\n",
       "      <td>0</td>\n",
       "      <td>0</td>\n",
       "      <td>0</td>\n",
       "      <td>0</td>\n",
       "      <td>0</td>\n",
       "      <td>0</td>\n",
       "      <td>0</td>\n",
       "      <td>0</td>\n",
       "      <td>0</td>\n",
       "      <td>0</td>\n",
       "      <td>0</td>\n",
       "      <td>0</td>\n",
       "      <td>0</td>\n",
       "      <td>0</td>\n",
       "      <td>0</td>\n",
       "      <td>0</td>\n",
       "      <td>0</td>\n",
       "      <td>0</td>\n",
       "      <td>0</td>\n",
       "      <td>0</td>\n",
       "      <td>0</td>\n",
       "      <td>0</td>\n",
       "      <td>0</td>\n",
       "      <td>0</td>\n",
       "      <td>0</td>\n",
       "      <td>0</td>\n",
       "      <td>0</td>\n",
       "      <td>8</td>\n",
       "    </tr>\n",
       "  </tbody>\n",
       "</table>\n",
       "</div>"
      ],
      "text/plain": [
       "   Product_Info_1  Product_Info_2  Product_Info_3  Product_Info_4  \\\n",
       "0               1              17              10        0.076923   \n",
       "1               1               1              26        0.076923   \n",
       "2               1              19              26        0.076923   \n",
       "3               1              18              10        0.487179   \n",
       "4               1              16              26        0.230769   \n",
       "\n",
       "   Product_Info_5  Product_Info_6  Product_Info_7   Ins_Age        Ht  \\\n",
       "0               2               1               1  0.641791  0.581818   \n",
       "1               2               3               1  0.059701  0.600000   \n",
       "2               2               3               1  0.029851  0.745455   \n",
       "3               2               3               1  0.164179  0.672727   \n",
       "4               2               3               1  0.417910  0.654545   \n",
       "\n",
       "         Wt       BMI  Employment_Info_1  Employment_Info_2  \\\n",
       "0  0.148536  0.323008              0.028                 12   \n",
       "1  0.131799  0.272288              0.000                  1   \n",
       "2  0.288703  0.428780              0.030                  9   \n",
       "3  0.205021  0.352438              0.042                  9   \n",
       "4  0.234310  0.424046              0.027                  9   \n",
       "\n",
       "   Employment_Info_3  Employment_Info_4  Employment_Info_5  Employment_Info_6  \\\n",
       "0                  1                0.0                  3             0.0000   \n",
       "1                  3                0.0                  2             0.0018   \n",
       "2                  1                0.0                  2             0.0300   \n",
       "3                  1                0.0                  3             0.2000   \n",
       "4                  1                0.0                  2             0.0500   \n",
       "\n",
       "   InsuredInfo_1  InsuredInfo_2  InsuredInfo_3  InsuredInfo_4  InsuredInfo_5  \\\n",
       "0              1              2              6              3              1   \n",
       "1              1              2              6              3              1   \n",
       "2              1              2              8              3              1   \n",
       "3              2              2              8              3              1   \n",
       "4              1              2              6              3              1   \n",
       "\n",
       "   InsuredInfo_6  InsuredInfo_7  Insurance_History_1  Insurance_History_2  \\\n",
       "0              2              1                    1                    1   \n",
       "1              2              1                    2                    1   \n",
       "2              1              1                    2                    1   \n",
       "3              2              1                    2                    1   \n",
       "4              2              1                    2                    1   \n",
       "\n",
       "   Insurance_History_3  Insurance_History_4  Insurance_History_5  \\\n",
       "0                    3                    1             0.000667   \n",
       "1                    3                    1             0.000133   \n",
       "2                    1                    3             0.000000   \n",
       "3                    1                    3             0.000000   \n",
       "4                    1                    3             0.000000   \n",
       "\n",
       "   Insurance_History_7  Insurance_History_8  Insurance_History_9  \\\n",
       "0                    1                    1                    2   \n",
       "1                    1                    3                    2   \n",
       "2                    3                    2                    3   \n",
       "3                    3                    2                    3   \n",
       "4                    3                    2                    3   \n",
       "\n",
       "   Family_Hist_1  Family_Hist_2  Family_Hist_3  Family_Hist_4  Family_Hist_5  \\\n",
       "0              2       0.000000       0.598039       0.000000       0.526786   \n",
       "1              2       0.188406       0.000000       0.084507       0.000000   \n",
       "2              3       0.304348       0.000000       0.225352       0.000000   \n",
       "3              3       0.420290       0.000000       0.352113       0.000000   \n",
       "4              2       0.463768       0.000000       0.408451       0.000000   \n",
       "\n",
       "   Medical_History_1  Medical_History_2  Medical_History_3  Medical_History_4  \\\n",
       "0                4.0                112                  2                  1   \n",
       "1                5.0                412                  2                  1   \n",
       "2               10.0                  3                  2                  2   \n",
       "3                0.0                350                  2                  2   \n",
       "4                0.0                162                  2                  2   \n",
       "\n",
       "   Medical_History_5  Medical_History_6  Medical_History_7  Medical_History_8  \\\n",
       "0                  1                  3                  2                  2   \n",
       "1                  1                  3                  2                  2   \n",
       "2                  1                  3                  2                  2   \n",
       "3                  1                  3                  2                  2   \n",
       "4                  1                  3                  2                  2   \n",
       "\n",
       "   Medical_History_9  Medical_History_10  Medical_History_11  \\\n",
       "0                  1                 0.0                   3   \n",
       "1                  1                 0.0                   3   \n",
       "2                  2                 0.0                   3   \n",
       "3                  2                 0.0                   3   \n",
       "4                  2                 0.0                   3   \n",
       "\n",
       "   Medical_History_12  Medical_History_13  Medical_History_14  \\\n",
       "0                   2                   3                   3   \n",
       "1                   2                   3                   3   \n",
       "2                   2                   3                   3   \n",
       "3                   2                   3                   3   \n",
       "4                   2                   3                   3   \n",
       "\n",
       "   Medical_History_15  Medical_History_16  Medical_History_17  \\\n",
       "0               240.0                   3                   3   \n",
       "1                 0.0                   1                   3   \n",
       "2                 0.0                   1                   3   \n",
       "3                 0.0                   1                   3   \n",
       "4                 0.0                   1                   3   \n",
       "\n",
       "   Medical_History_18  Medical_History_19  Medical_History_20  \\\n",
       "0                   1                   1                   2   \n",
       "1                   1                   1                   2   \n",
       "2                   1                   1                   2   \n",
       "3                   1                   1                   2   \n",
       "4                   1                   1                   2   \n",
       "\n",
       "   Medical_History_21  Medical_History_22  Medical_History_23  \\\n",
       "0                   1                   2                   3   \n",
       "1                   1                   2                   3   \n",
       "2                   1                   2                   3   \n",
       "3                   2                   2                   3   \n",
       "4                   1                   2                   3   \n",
       "\n",
       "   Medical_History_24  Medical_History_25  Medical_History_26  \\\n",
       "0                 0.0                   1                   3   \n",
       "1                 0.0                   1                   3   \n",
       "2                 0.0                   2                   2   \n",
       "3                 0.0                   1                   3   \n",
       "4                 0.0                   2                   2   \n",
       "\n",
       "   Medical_History_27  Medical_History_28  Medical_History_29  \\\n",
       "0                   3                   1                   3   \n",
       "1                   3                   1                   3   \n",
       "2                   3                   1                   3   \n",
       "3                   3                   1                   3   \n",
       "4                   3                   1                   3   \n",
       "\n",
       "   Medical_History_30  Medical_History_31  Medical_History_32  \\\n",
       "0                   2                   3                 0.0   \n",
       "1                   2                   3                 0.0   \n",
       "2                   2                   3                 0.0   \n",
       "3                   2                   3                 0.0   \n",
       "4                   2                   3                 0.0   \n",
       "\n",
       "   Medical_History_33  Medical_History_34  Medical_History_35  \\\n",
       "0                   1                   3                   1   \n",
       "1                   3                   1                   1   \n",
       "2                   3                   3                   1   \n",
       "3                   3                   3                   1   \n",
       "4                   3                   3                   1   \n",
       "\n",
       "   Medical_History_36  Medical_History_37  Medical_History_38  \\\n",
       "0                   2                   2                   1   \n",
       "1                   2                   2                   1   \n",
       "2                   3                   2                   1   \n",
       "3                   2                   2                   1   \n",
       "4                   3                   2                   1   \n",
       "\n",
       "   Medical_History_39  Medical_History_40  Medical_History_41  \\\n",
       "0                   3                   3                   3   \n",
       "1                   3                   3                   1   \n",
       "2                   3                   3                   1   \n",
       "3                   3                   3                   1   \n",
       "4                   3                   3                   1   \n",
       "\n",
       "   Medical_Keyword_1  Medical_Keyword_2  Medical_Keyword_3  Medical_Keyword_4  \\\n",
       "0                  0                  0                  0                  0   \n",
       "1                  0                  0                  0                  0   \n",
       "2                  0                  0                  0                  0   \n",
       "3                  0                  0                  0                  0   \n",
       "4                  0                  0                  0                  0   \n",
       "\n",
       "   Medical_Keyword_5  Medical_Keyword_6  Medical_Keyword_7  Medical_Keyword_8  \\\n",
       "0                  0                  0                  0                  0   \n",
       "1                  0                  0                  0                  0   \n",
       "2                  0                  0                  0                  0   \n",
       "3                  0                  0                  0                  0   \n",
       "4                  0                  0                  0                  0   \n",
       "\n",
       "   Medical_Keyword_9  Medical_Keyword_10  Medical_Keyword_11  \\\n",
       "0                  0                   0                   0   \n",
       "1                  0                   0                   0   \n",
       "2                  0                   0                   0   \n",
       "3                  0                   0                   0   \n",
       "4                  0                   0                   0   \n",
       "\n",
       "   Medical_Keyword_12  Medical_Keyword_13  Medical_Keyword_14  \\\n",
       "0                   0                   0                   0   \n",
       "1                   0                   0                   0   \n",
       "2                   0                   0                   0   \n",
       "3                   0                   0                   0   \n",
       "4                   0                   0                   0   \n",
       "\n",
       "   Medical_Keyword_15  Medical_Keyword_16  Medical_Keyword_17  \\\n",
       "0                   0                   0                   0   \n",
       "1                   0                   0                   0   \n",
       "2                   0                   0                   0   \n",
       "3                   0                   0                   0   \n",
       "4                   0                   0                   0   \n",
       "\n",
       "   Medical_Keyword_18  Medical_Keyword_19  Medical_Keyword_20  \\\n",
       "0                   0                   0                   0   \n",
       "1                   0                   0                   0   \n",
       "2                   0                   0                   0   \n",
       "3                   0                   0                   0   \n",
       "4                   0                   0                   0   \n",
       "\n",
       "   Medical_Keyword_21  Medical_Keyword_22  Medical_Keyword_23  \\\n",
       "0                   0                   0                   0   \n",
       "1                   0                   0                   0   \n",
       "2                   0                   0                   0   \n",
       "3                   0                   0                   0   \n",
       "4                   0                   0                   0   \n",
       "\n",
       "   Medical_Keyword_24  Medical_Keyword_25  Medical_Keyword_26  \\\n",
       "0                   0                   0                   0   \n",
       "1                   0                   0                   0   \n",
       "2                   0                   0                   0   \n",
       "3                   0                   0                   0   \n",
       "4                   0                   0                   0   \n",
       "\n",
       "   Medical_Keyword_27  Medical_Keyword_28  Medical_Keyword_29  \\\n",
       "0                   0                   0                   0   \n",
       "1                   0                   0                   0   \n",
       "2                   0                   0                   0   \n",
       "3                   0                   0                   0   \n",
       "4                   0                   0                   0   \n",
       "\n",
       "   Medical_Keyword_30  Medical_Keyword_31  Medical_Keyword_32  \\\n",
       "0                   0                   0                   0   \n",
       "1                   0                   0                   0   \n",
       "2                   0                   0                   0   \n",
       "3                   0                   0                   1   \n",
       "4                   0                   0                   0   \n",
       "\n",
       "   Medical_Keyword_33  Medical_Keyword_34  Medical_Keyword_35  \\\n",
       "0                   0                   0                   0   \n",
       "1                   0                   0                   0   \n",
       "2                   0                   0                   0   \n",
       "3                   0                   0                   0   \n",
       "4                   0                   0                   0   \n",
       "\n",
       "   Medical_Keyword_36  Medical_Keyword_37  Medical_Keyword_38  \\\n",
       "0                   0                   0                   0   \n",
       "1                   0                   0                   0   \n",
       "2                   0                   0                   0   \n",
       "3                   0                   0                   0   \n",
       "4                   0                   0                   0   \n",
       "\n",
       "   Medical_Keyword_39  Medical_Keyword_40  Medical_Keyword_41  \\\n",
       "0                   0                   0                   0   \n",
       "1                   0                   0                   0   \n",
       "2                   0                   0                   0   \n",
       "3                   0                   0                   0   \n",
       "4                   0                   0                   0   \n",
       "\n",
       "   Medical_Keyword_42  Medical_Keyword_43  Medical_Keyword_44  \\\n",
       "0                   0                   0                   0   \n",
       "1                   0                   0                   0   \n",
       "2                   0                   0                   0   \n",
       "3                   0                   0                   0   \n",
       "4                   0                   0                   0   \n",
       "\n",
       "   Medical_Keyword_45  Medical_Keyword_46  Medical_Keyword_47  \\\n",
       "0                   0                   0                   0   \n",
       "1                   0                   0                   0   \n",
       "2                   0                   0                   0   \n",
       "3                   0                   0                   0   \n",
       "4                   0                   0                   0   \n",
       "\n",
       "   Medical_Keyword_48  Response  \n",
       "0                   0         8  \n",
       "1                   0         4  \n",
       "2                   0         8  \n",
       "3                   0         8  \n",
       "4                   0         8  "
      ]
     },
     "execution_count": 7,
     "metadata": {},
     "output_type": "execute_result"
    }
   ],
   "source": [
    "ins.head()"
   ]
  },
  {
   "cell_type": "code",
   "execution_count": 8,
   "metadata": {},
   "outputs": [],
   "source": [
    "#converting number to reduce size\n",
    "for i in ins.columns:\n",
    "    if str(ins[i].dtypes) == 'int64':\n",
    "        ins[i] = ins[i].astype('int8')\n",
    "    else:\n",
    "        ins[i] = ins[i].astype('float16')"
   ]
  },
  {
   "cell_type": "code",
   "execution_count": 9,
   "metadata": {},
   "outputs": [],
   "source": [
    "features = ins.drop(['Response','Ht','Wt'],axis=1)\n",
    "targets = ins.Response\n",
    "targets = targets.map(lambda x: x-1)\n",
    "X, X_holdout, y, y_holdout = train_test_split(features,targets, train_size = 0.8,test_size=0.2,random_state=77)\n",
    "X_train, X_test, y_train, y_test = train_test_split(X,y, train_size = 0.9,test_size=0.1,random_state=50)"
   ]
  },
  {
   "cell_type": "code",
   "execution_count": 10,
   "metadata": {},
   "outputs": [],
   "source": [
    "int_col_num= []\n",
    "int_col_name= []\n",
    "flt_col_name = []\n",
    "for i in range(0,len(X_train.columns)):\n",
    "    if str(X_train.dtypes[i]) == 'int64':\n",
    "        int_col_num.append(int(i))\n",
    "        int_col_name.append(X_train.columns[i])\n",
    "    else:\n",
    "        flt_col_name.append(X_train.columns[i])"
   ]
  },
  {
   "cell_type": "code",
   "execution_count": 11,
   "metadata": {},
   "outputs": [
    {
     "name": "stdout",
     "output_type": "stream",
     "text": [
      "(42753, 124)\n"
     ]
    }
   ],
   "source": [
    "print(X_train.shape)"
   ]
  },
  {
   "cell_type": "code",
   "execution_count": 12,
   "metadata": {},
   "outputs": [
    {
     "data": {
      "image/png": "[encoded data removed]",
      "text/plain": [
       "<Figure size 432x288 with 1 Axes>"
      ]
     },
     "metadata": {
      "needs_background": "light"
     },
     "output_type": "display_data"
    },
    {
     "data": {
      "image/png": "[encoded data removed]",
      "text/plain": [
       "<Figure size 432x288 with 1 Axes>"
      ]
     },
     "metadata": {
      "needs_background": "light"
     },
     "output_type": "display_data"
    },
    {
     "data": {
      "image/png": "[encoded data removed]",
      "text/plain": [
       "<Figure size 432x288 with 1 Axes>"
      ]
     },
     "metadata": {
      "needs_background": "light"
     },
     "output_type": "display_data"
    }
   ],
   "source": [
    "#trying out log transformation on the below 3 columns. This appeared to have minimal impact overall however.\n",
    "i=1\n",
    "\n",
    "for n in ['BMI', 'Employment_Info_1','Medical_History_1']:\n",
    "    ins[n] = ins[n].apply(lambda x: np.log(x) if x !=0 else x)\n",
    "    plt.figure(i)\n",
    "    sns.distplot(ins[n])\n",
    "    i += 1"
   ]
  },
  {
   "cell_type": "markdown",
   "metadata": {},
   "source": [
    "#### Determining Baseline"
   ]
  },
  {
   "cell_type": "code",
   "execution_count": 13,
   "metadata": {},
   "outputs": [
    {
     "data": {
      "text/plain": [
       "7    14028\n",
       "5     8069\n",
       "6     5821\n",
       "1     4714\n",
       "0     4489\n",
       "4     3906\n",
       "3     1003\n",
       "2      723\n",
       "Name: Response, dtype: int64"
      ]
     },
     "execution_count": 13,
     "metadata": {},
     "output_type": "execute_result"
    }
   ],
   "source": [
    "y_train.value_counts()"
   ]
  },
  {
   "cell_type": "code",
   "execution_count": 14,
   "metadata": {},
   "outputs": [
    {
     "name": "stdout",
     "output_type": "stream",
     "text": [
      "0.36575211096297333\n"
     ]
    }
   ],
   "source": [
    "baseline=15637/len(y_train)\n",
    "print(baseline)"
   ]
  },
  {
   "cell_type": "markdown",
   "metadata": {},
   "source": [
    "## Logistic Regression"
   ]
  },
  {
   "cell_type": "code",
   "execution_count": 19,
   "metadata": {},
   "outputs": [],
   "source": [
    "lr = LogisticRegression(multi_class='auto', solver = 'liblinear')"
   ]
  },
  {
   "cell_type": "code",
   "execution_count": 20,
   "metadata": {},
   "outputs": [
    {
     "name": "stderr",
     "output_type": "stream",
     "text": [
      "[Parallel(n_jobs=-1)]: Using backend LokyBackend with 8 concurrent workers.\n",
      "[Parallel(n_jobs=-1)]: Done   2 out of   5 | elapsed:  1.5min remaining:  2.2min\n",
      "[Parallel(n_jobs=-1)]: Done   5 out of   5 | elapsed:  1.7min finished\n"
     ]
    },
    {
     "name": "stdout",
     "output_type": "stream",
     "text": [
      "[0.49532383 0.49304338 0.49690095 0.49666628 0.49052188]\n",
      "0.494491261460248\n"
     ]
    }
   ],
   "source": [
    "scores = cross_val_score(lr, X_train, y_train, cv=5,n_jobs=-1,verbose=1)\n",
    "predictions = cross_val_predict(lr, X_train,y_train,cv=5,n_jobs=3)\n",
    "r2 = metrics.r2_score(y_train, predictions)\n",
    "print(scores)\n",
    "print(scores.mean())"
   ]
  },
  {
   "cell_type": "markdown",
   "metadata": {},
   "source": [
    "CV Results - (multi_class='auto', solver = 'liblinear')\n",
    "\n",
    "[0.49590835 0.49397872 0.49923985 0.49584747 0.49075591]\n",
    "0.4951460599227767"
   ]
  },
  {
   "cell_type": "code",
   "execution_count": 21,
   "metadata": {
    "scrolled": true
   },
   "outputs": [],
   "source": [
    "scores=cross_val_score(lr,X_train,y_train,cv=5,n_jobs=3)"
   ]
  },
  {
   "cell_type": "code",
   "execution_count": 22,
   "metadata": {},
   "outputs": [
    {
     "name": "stdout",
     "output_type": "stream",
     "text": [
      "baseline:  0.36575211096297333\n",
      "-------------------------------\n",
      "accuracy score - train:  0.494491261460248\n",
      "accuracy score - test:  0.4980004209640076\n",
      "-------------------------------\n",
      "log loss score - train:  1.366988536571226\n",
      "log loss score - test:  1.384657443589925\n"
     ]
    }
   ],
   "source": [
    "accuracy_score_train = scores.mean()\n",
    "lr.fit(X_train,y_train)\n",
    "accuracy_score_test = lr.score(X_test,y_test)\n",
    "\n",
    "y_pred = lr.predict_proba(X_test)\n",
    "log_loss_test = log_loss(y_test,y_pred)\n",
    "\n",
    "y_pred = lr.predict_proba(X_train)\n",
    "log_loss_train = log_loss(y_train,y_pred)\n",
    "\n",
    "print('baseline: ',baseline)\n",
    "print('-------------------------------')\n",
    "print(\"accuracy score - train: \",accuracy_score_train)\n",
    "print(\"accuracy score - test: \",accuracy_score_test)\n",
    "print('-------------------------------')\n",
    "print(\"log loss score - train: \",log_loss_train)\n",
    "print(\"log loss score - test: \",log_loss_test)"
   ]
  },
  {
   "cell_type": "code",
   "execution_count": 23,
   "metadata": {},
   "outputs": [
    {
     "data": {
      "text/plain": [
       "7    0.328702\n",
       "5    0.189624\n",
       "6    0.136318\n",
       "1    0.110144\n",
       "0    0.102823\n",
       "4    0.091081\n",
       "3    0.024536\n",
       "2    0.016771\n",
       "Name: Response, dtype: float64"
      ]
     },
     "execution_count": 23,
     "metadata": {},
     "output_type": "execute_result"
    }
   ],
   "source": [
    "y_train.value_counts(normalize=True)"
   ]
  },
  {
   "cell_type": "markdown",
   "metadata": {},
   "source": [
    "## Logistic Regression - Ridge"
   ]
  },
  {
   "cell_type": "code",
   "execution_count": null,
   "metadata": {},
   "outputs": [],
   "source": [
    "lr_lasso = LogisticRegressionCV(penalty='l2', Cs=200, cv=5, solver='liblinear',multi_class='auto',n_jobs=3)\n",
    "lr_lasso.fit(X_train, y_train)"
   ]
  },
  {
   "cell_type": "code",
   "execution_count": null,
   "metadata": {},
   "outputs": [],
   "source": [
    "accuracy_score_train = lr_ridge.score(X_train,y_train)\n",
    "accuracy_score_test = lr_ridge.score(X_test,y_test)\n",
    "\n",
    "y_pred = lr_ridge.predict_proba(X_test)\n",
    "log_loss_test = log_loss(y_test,y_pred)\n",
    "\n",
    "y_pred = lr_ridge.predict_proba(X_train)\n",
    "log_loss_train = log_loss(y_train,y_pred)\n",
    "\n",
    "print('baseline: ',baseline)\n",
    "print('-------------------------------')\n",
    "print(\"accuracy score - train: \",accuracy_score_train)\n",
    "print(\"accuracy score - test: \",accuracy_score_test)\n",
    "print('-------------------------------')\n",
    "print(\"log loss score - train: \",log_loss_train)\n",
    "print(\"log loss score - test: \",log_loss_test)"
   ]
  },
  {
   "cell_type": "markdown",
   "metadata": {},
   "source": [
    "## Logistic Regression - Lasso"
   ]
  },
  {
   "cell_type": "code",
   "execution_count": null,
   "metadata": {},
   "outputs": [],
   "source": [
    "lr_lasso = LogisticRegressionCV(penalty='l1', solver='liblinear', Cs=200, cv=10)\n",
    "lr_lasso.fit(X_train, y_train)"
   ]
  },
  {
   "cell_type": "code",
   "execution_count": null,
   "metadata": {},
   "outputs": [],
   "source": [
    "accuracy_score_train = lr_lasso.score(X_train,y_train)\n",
    "accuracy_score_test = lr_lasso.score(X_test,y_test)\n",
    "\n",
    "y_pred = lr_lasso.predict_proba(X_test)\n",
    "log_loss_test = log_loss(y_test,y_pred)\n",
    "\n",
    "y_pred = lr_lasso.predict_proba(X_train)\n",
    "log_loss_train = log_loss(y_train,y_pred)\n",
    "\n",
    "print('baseline: ',baseline)\n",
    "print('-------------------------------')\n",
    "print(\"accuracy score - train: \",accuracy_score_train)\n",
    "print(\"accuracy score - test: \",accuracy_score_test)\n",
    "print('-------------------------------')\n",
    "print(\"log loss score - train: \",log_loss_train)\n",
    "print(\"log loss score - test: \",log_loss_test)"
   ]
  },
  {
   "cell_type": "markdown",
   "metadata": {},
   "source": [
    "## SVM"
   ]
  },
  {
   "cell_type": "code",
   "execution_count": null,
   "metadata": {},
   "outputs": [],
   "source": [
    "parameters = {'C':[0.001,0.25,0.5,0.75,1,10],\n",
    "              'kernel':['linear','rbf'],\n",
    "              'gamma':['scale',0.001,0.01,0.1,1,2,3],\n",
    "              'decision_function_shape':['ovo','ovr']}"
   ]
  },
  {
   "cell_type": "code",
   "execution_count": null,
   "metadata": {},
   "outputs": [],
   "source": [
    "svm = SVC(probability=True,random_state=42)\n",
    "grid_search = GridSearchCV(svm,param_grid=parameters,cv=3,n_jobs=3)\n",
    "grid_search.fit(X_train,y_train)"
   ]
  },
  {
   "cell_type": "code",
   "execution_count": null,
   "metadata": {},
   "outputs": [],
   "source": [
    "grid_search.best_params_"
   ]
  },
  {
   "cell_type": "code",
   "execution_count": 18,
   "metadata": {},
   "outputs": [],
   "source": [
    "svm = SVC(C=1, kernel='rbf', gamma='scale',decision_function_shape='ovr',probability=True,random_state=42)"
   ]
  },
  {
   "cell_type": "code",
   "execution_count": 19,
   "metadata": {},
   "outputs": [
    {
     "name": "stderr",
     "output_type": "stream",
     "text": [
      "[Parallel(n_jobs=-1)]: Using backend LokyBackend with 8 concurrent workers.\n",
      "[Parallel(n_jobs=-1)]: Done   2 out of   5 | elapsed: 64.1min remaining: 96.1min\n",
      "[Parallel(n_jobs=-1)]: Done   5 out of   5 | elapsed: 64.3min finished\n"
     ]
    },
    {
     "name": "stdout",
     "output_type": "stream",
     "text": [
      "[0.36029928 0.36244593 0.3573851  0.35466136 0.35490288]\n",
      "0.35793890883976404\n"
     ]
    }
   ],
   "source": [
    "scores = cross_val_score(svm, X_train, y_train, cv=5,n_jobs=-1,verbose=1)\n",
    "predictions = cross_val_predict(svm, X_train,y_train,cv=5,n_jobs=3)\n",
    "r2 = metrics.r2_score(y_train, predictions)\n",
    "print(scores)\n",
    "print(scores.mean())"
   ]
  },
  {
   "cell_type": "markdown",
   "metadata": {},
   "source": [
    "CV Scores - (cv=5,n_jobs=-1,verbose=1)\n",
    "\n",
    "[0.36029928 0.36244593 0.3573851  0.35466136 0.35490288]\n",
    "0.35793890883976404"
   ]
  },
  {
   "cell_type": "code",
   "execution_count": null,
   "metadata": {},
   "outputs": [],
   "source": [
    "svm.fit(X_train,y_train)\n",
    "accuracy_score_train = grid_search.best_score_\n",
    "\n",
    "accuracy_score_test = grid_search.score(X_test,y_test)\n",
    "\n",
    "y_pred = grid_search.predict_proba(X_test)\n",
    "log_loss_test = log_loss(y_test,y_pred)\n",
    "\n",
    "y_pred = grid_search.predict_proba(X_train)\n",
    "log_loss_train = log_loss(y_train,y_pred)\n",
    "\n",
    "print('baseline: ',baseline)\n",
    "print('-------------------------------')\n",
    "print(\"accuracy score - train: \",accuracy_score_train)\n",
    "print(\"accuracy score - test: \",accuracy_score_test)\n",
    "print('-------------------------------')\n",
    "print(\"log loss score - train: \",log_loss_train)\n",
    "print(\"log loss score - test: \",log_loss_test)"
   ]
  },
  {
   "cell_type": "markdown",
   "metadata": {},
   "source": [
    "Test 1\n",
    "- C=0.001, kernel='rbf', gamma='scale',decision_function_shape='ovr',probability=True,random_state=42"
   ]
  },
  {
   "cell_type": "markdown",
   "metadata": {},
   "source": [
    "## Random Forest"
   ]
  },
  {
   "cell_type": "code",
   "execution_count": 15,
   "metadata": {},
   "outputs": [],
   "source": [
    "forest = RandomForestClassifier(max_depth=5,max_leaf_nodes=30,verbose=1)"
   ]
  },
  {
   "cell_type": "code",
   "execution_count": 20,
   "metadata": {},
   "outputs": [
    {
     "name": "stderr",
     "output_type": "stream",
     "text": [
      "[Parallel(n_jobs=3)]: Using backend LokyBackend with 3 concurrent workers.\n",
      "[Parallel(n_jobs=3)]: Done   5 out of   5 | elapsed:    5.1s finished\n"
     ]
    },
    {
     "name": "stdout",
     "output_type": "stream",
     "text": [
      "[0.44821136 0.45703262 0.41831365 0.43829688 0.46173648]\n",
      "0.4447181984995579\n"
     ]
    }
   ],
   "source": [
    "scores = cross_val_score(forest, X_train, y_train, cv=5,n_jobs=3,verbose=1)\n",
    "predictions = cross_val_predict(forest, X_train,y_train,cv=5,n_jobs=3)\n",
    "r2 = metrics.r2_score(y_train, predictions)\n",
    "print(scores)\n",
    "print(scores.mean())"
   ]
  },
  {
   "cell_type": "markdown",
   "metadata": {},
   "source": [
    "CV Results (max_depth=5,max_leaf_nodes=30,class_weight='balanced',verbose=1)\n",
    "\n",
    "[0.42646715 0.41190226 0.42673372 0.40905369 0.41048444]\n",
    "0.4169282498796433\n",
    "\n",
    "CV Results (max_depth=5,max_leaf_nodes=30,verbose=1)\n",
    "\n",
    "[0.44201543 0.44557465 0.46099871 0.43853082 0.4678212 ]\n",
    "0.4509881644734108"
   ]
  },
  {
   "cell_type": "code",
   "execution_count": 16,
   "metadata": {},
   "outputs": [
    {
     "name": "stderr",
     "output_type": "stream",
     "text": [
      "C:\\Users\\Roy\\Anaconda3\\lib\\site-packages\\sklearn\\ensemble\\forest.py:246: FutureWarning: The default value of n_estimators will change from 10 in version 0.20 to 100 in 0.22.\n",
      "  \"10 in version 0.20 to 100 in 0.22.\", FutureWarning)\n",
      "[Parallel(n_jobs=1)]: Using backend SequentialBackend with 1 concurrent workers.\n",
      "[Parallel(n_jobs=1)]: Done  10 out of  10 | elapsed:    0.2s finished\n"
     ]
    },
    {
     "data": {
      "text/plain": [
       "RandomForestClassifier(bootstrap=True, class_weight=None, criterion='gini',\n",
       "            max_depth=5, max_features='auto', max_leaf_nodes=30,\n",
       "            min_impurity_decrease=0.0, min_impurity_split=None,\n",
       "            min_samples_leaf=1, min_samples_split=2,\n",
       "            min_weight_fraction_leaf=0.0, n_estimators=10, n_jobs=None,\n",
       "            oob_score=False, random_state=None, verbose=1,\n",
       "            warm_start=False)"
      ]
     },
     "execution_count": 16,
     "metadata": {},
     "output_type": "execute_result"
    }
   ],
   "source": [
    "forest.fit(X_train,y_train)"
   ]
  },
  {
   "cell_type": "code",
   "execution_count": 22,
   "metadata": {},
   "outputs": [
    {
     "name": "stderr",
     "output_type": "stream",
     "text": [
      "[Parallel(n_jobs=1)]: Using backend SequentialBackend with 1 concurrent workers.\n",
      "[Parallel(n_jobs=1)]: Done  10 out of  10 | elapsed:    0.0s finished\n",
      "[Parallel(n_jobs=1)]: Using backend SequentialBackend with 1 concurrent workers.\n",
      "[Parallel(n_jobs=1)]: Done  10 out of  10 | elapsed:    0.0s finished\n",
      "[Parallel(n_jobs=1)]: Using backend SequentialBackend with 1 concurrent workers.\n",
      "[Parallel(n_jobs=1)]: Done  10 out of  10 | elapsed:    0.0s finished\n",
      "[Parallel(n_jobs=1)]: Using backend SequentialBackend with 1 concurrent workers.\n",
      "[Parallel(n_jobs=1)]: Done  10 out of  10 | elapsed:    0.0s finished\n"
     ]
    },
    {
     "name": "stdout",
     "output_type": "stream",
     "text": [
      "baseline:  0.36575211096297333\n",
      "-------------------------------\n",
      "accuracy score - train:  0.46139452202184644\n",
      "accuracy score - test:  0.46095558829720057\n",
      "-------------------------------\n",
      "log loss score - train:  1.4964091323898545\n",
      "log loss score - test:  1.4962416907564446\n"
     ]
    }
   ],
   "source": [
    "accuracy_score_train = forest.score(X_train,y_train)\n",
    "\n",
    "accuracy_score_test = forest.score(X_test,y_test)\n",
    "\n",
    "y_pred = forest.predict_proba(X_test)\n",
    "log_loss_test = log_loss(y_test,y_pred)\n",
    "\n",
    "y_pred = forest.predict_proba(X_train)\n",
    "log_loss_train = log_loss(y_train,y_pred)\n",
    "\n",
    "print('baseline: ',baseline)\n",
    "print('-------------------------------')\n",
    "print(\"accuracy score - train: \",accuracy_score_train)\n",
    "print(\"accuracy score - test: \",accuracy_score_test)\n",
    "print('-------------------------------')\n",
    "print(\"log loss score - train: \",log_loss_train)\n",
    "print(\"log loss score - test: \",log_loss_test)"
   ]
  },
  {
   "cell_type": "code",
   "execution_count": null,
   "metadata": {},
   "outputs": [],
   "source": [
    "forest_features = pd.DataFrame()\n",
    "forest_features['feature'] = X.columns\n",
    "forest_features['importance'] = forest.feature_importances_\n",
    "forest_features.sort_values('importance',ascending=False).head(10)"
   ]
  },
  {
   "cell_type": "markdown",
   "metadata": {},
   "source": [
    "## XGBoost"
   ]
  },
  {
   "cell_type": "code",
   "execution_count": 15,
   "metadata": {
    "scrolled": true
   },
   "outputs": [
    {
     "name": "stdout",
     "output_type": "stream",
     "text": [
      "[0]\tvalidation_0-merror:0.446425\tvalidation_0-mlogloss:1.96987\tvalidation_1-merror:0.443486\tvalidation_1-mlogloss:1.97088\n",
      "[1]\tvalidation_0-merror:0.44432\tvalidation_0-mlogloss:1.88228\tvalidation_1-merror:0.441591\tvalidation_1-mlogloss:1.88458\n",
      "[2]\tvalidation_0-merror:0.442144\tvalidation_0-mlogloss:1.81038\tvalidation_1-merror:0.441591\tvalidation_1-mlogloss:1.81396\n",
      "[3]\tvalidation_0-merror:0.443688\tvalidation_0-mlogloss:1.74866\tvalidation_1-merror:0.441381\tvalidation_1-mlogloss:1.75383\n",
      "[4]\tvalidation_0-merror:0.442144\tvalidation_0-mlogloss:1.69555\tvalidation_1-merror:0.445169\tvalidation_1-mlogloss:1.70229\n",
      "[5]\tvalidation_0-merror:0.440952\tvalidation_0-mlogloss:1.6491\tvalidation_1-merror:0.446853\tvalidation_1-mlogloss:1.65723\n",
      "[6]\tvalidation_0-merror:0.439478\tvalidation_0-mlogloss:1.60783\tvalidation_1-merror:0.44538\tvalidation_1-mlogloss:1.61735\n",
      "[7]\tvalidation_0-merror:0.437466\tvalidation_0-mlogloss:1.57151\tvalidation_1-merror:0.445169\tvalidation_1-mlogloss:1.58271\n",
      "[8]\tvalidation_0-merror:0.435619\tvalidation_0-mlogloss:1.53902\tvalidation_1-merror:0.444328\tvalidation_1-mlogloss:1.55161\n",
      "[9]\tvalidation_0-merror:0.434192\tvalidation_0-mlogloss:1.5098\tvalidation_1-merror:0.443275\tvalidation_1-mlogloss:1.52384\n",
      "[10]\tvalidation_0-merror:0.434355\tvalidation_0-mlogloss:1.48337\tvalidation_1-merror:0.442644\tvalidation_1-mlogloss:1.49875\n",
      "[11]\tvalidation_0-merror:0.432929\tvalidation_0-mlogloss:1.45962\tvalidation_1-merror:0.443065\tvalidation_1-mlogloss:1.47676\n",
      "[12]\tvalidation_0-merror:0.431315\tvalidation_0-mlogloss:1.4381\tvalidation_1-merror:0.440328\tvalidation_1-mlogloss:1.4568\n",
      "[13]\tvalidation_0-merror:0.430262\tvalidation_0-mlogloss:1.41859\tvalidation_1-merror:0.439907\tvalidation_1-mlogloss:1.43894\n",
      "[14]\tvalidation_0-merror:0.428812\tvalidation_0-mlogloss:1.40047\tvalidation_1-merror:0.438644\tvalidation_1-mlogloss:1.42235\n",
      "[15]\tvalidation_0-merror:0.428251\tvalidation_0-mlogloss:1.38396\tvalidation_1-merror:0.43654\tvalidation_1-mlogloss:1.40718\n",
      "[16]\tvalidation_0-merror:0.427268\tvalidation_0-mlogloss:1.36848\tvalidation_1-merror:0.43675\tvalidation_1-mlogloss:1.39338\n",
      "[17]\tvalidation_0-merror:0.427105\tvalidation_0-mlogloss:1.35446\tvalidation_1-merror:0.435698\tvalidation_1-mlogloss:1.38063\n",
      "[18]\tvalidation_0-merror:0.425912\tvalidation_0-mlogloss:1.34141\tvalidation_1-merror:0.436119\tvalidation_1-mlogloss:1.36904\n",
      "[19]\tvalidation_0-merror:0.424508\tvalidation_0-mlogloss:1.32916\tvalidation_1-merror:0.434224\tvalidation_1-mlogloss:1.3583\n",
      "[20]\tvalidation_0-merror:0.423713\tvalidation_0-mlogloss:1.31767\tvalidation_1-merror:0.433382\tvalidation_1-mlogloss:1.34846\n",
      "[21]\tvalidation_0-merror:0.423011\tvalidation_0-mlogloss:1.30664\tvalidation_1-merror:0.432961\tvalidation_1-mlogloss:1.33864\n",
      "[22]\tvalidation_0-merror:0.422122\tvalidation_0-mlogloss:1.29658\tvalidation_1-merror:0.432541\tvalidation_1-mlogloss:1.33018\n",
      "[23]\tvalidation_0-merror:0.421842\tvalidation_0-mlogloss:1.28773\tvalidation_1-merror:0.43212\tvalidation_1-mlogloss:1.32294\n",
      "[24]\tvalidation_0-merror:0.420742\tvalidation_0-mlogloss:1.27918\tvalidation_1-merror:0.431909\tvalidation_1-mlogloss:1.31589\n",
      "[25]\tvalidation_0-merror:0.419807\tvalidation_0-mlogloss:1.27135\tvalidation_1-merror:0.430857\tvalidation_1-mlogloss:1.30942\n",
      "[26]\tvalidation_0-merror:0.418871\tvalidation_0-mlogloss:1.26393\tvalidation_1-merror:0.431067\tvalidation_1-mlogloss:1.30344\n",
      "[27]\tvalidation_0-merror:0.41831\tvalidation_0-mlogloss:1.25689\tvalidation_1-merror:0.431278\tvalidation_1-mlogloss:1.29795\n",
      "[28]\tvalidation_0-merror:0.417444\tvalidation_0-mlogloss:1.25007\tvalidation_1-merror:0.430015\tvalidation_1-mlogloss:1.29248\n",
      "[29]\tvalidation_0-merror:0.416345\tvalidation_0-mlogloss:1.24384\tvalidation_1-merror:0.430225\tvalidation_1-mlogloss:1.28754\n",
      "[30]\tvalidation_0-merror:0.415737\tvalidation_0-mlogloss:1.23781\tvalidation_1-merror:0.429804\tvalidation_1-mlogloss:1.28275\n",
      "[31]\tvalidation_0-merror:0.414474\tvalidation_0-mlogloss:1.23204\tvalidation_1-merror:0.428331\tvalidation_1-mlogloss:1.27854\n",
      "[32]\tvalidation_0-merror:0.413421\tvalidation_0-mlogloss:1.22687\tvalidation_1-merror:0.42791\tvalidation_1-mlogloss:1.27459\n",
      "[33]\tvalidation_0-merror:0.412883\tvalidation_0-mlogloss:1.22129\tvalidation_1-merror:0.42812\tvalidation_1-mlogloss:1.27008\n",
      "[34]\tvalidation_0-merror:0.411807\tvalidation_0-mlogloss:1.21662\tvalidation_1-merror:0.428541\tvalidation_1-mlogloss:1.26631\n",
      "[35]\tvalidation_0-merror:0.411456\tvalidation_0-mlogloss:1.21184\tvalidation_1-merror:0.429594\tvalidation_1-mlogloss:1.26278\n",
      "[36]\tvalidation_0-merror:0.410568\tvalidation_0-mlogloss:1.20749\tvalidation_1-merror:0.429173\tvalidation_1-mlogloss:1.25955\n",
      "[37]\tvalidation_0-merror:0.409562\tvalidation_0-mlogloss:1.20307\tvalidation_1-merror:0.42791\tvalidation_1-mlogloss:1.25639\n",
      "[38]\tvalidation_0-merror:0.40893\tvalidation_0-mlogloss:1.1991\tvalidation_1-merror:0.428541\tvalidation_1-mlogloss:1.25373\n",
      "[39]\tvalidation_0-merror:0.408112\tvalidation_0-mlogloss:1.19525\tvalidation_1-merror:0.428752\tvalidation_1-mlogloss:1.25089\n",
      "[40]\tvalidation_0-merror:0.407293\tvalidation_0-mlogloss:1.19176\tvalidation_1-merror:0.42791\tvalidation_1-mlogloss:1.24856\n",
      "[41]\tvalidation_0-merror:0.406451\tvalidation_0-mlogloss:1.18813\tvalidation_1-merror:0.427278\tvalidation_1-mlogloss:1.24607\n",
      "[42]\tvalidation_0-merror:0.405586\tvalidation_0-mlogloss:1.18507\tvalidation_1-merror:0.427489\tvalidation_1-mlogloss:1.24411\n",
      "[43]\tvalidation_0-merror:0.404907\tvalidation_0-mlogloss:1.18191\tvalidation_1-merror:0.427489\tvalidation_1-mlogloss:1.24219\n",
      "[44]\tvalidation_0-merror:0.404159\tvalidation_0-mlogloss:1.17887\tvalidation_1-merror:0.426226\tvalidation_1-mlogloss:1.24021\n",
      "[45]\tvalidation_0-merror:0.403457\tvalidation_0-mlogloss:1.17579\tvalidation_1-merror:0.426437\tvalidation_1-mlogloss:1.23838\n",
      "[46]\tvalidation_0-merror:0.402755\tvalidation_0-mlogloss:1.17288\tvalidation_1-merror:0.425384\tvalidation_1-mlogloss:1.23647\n",
      "[47]\tvalidation_0-merror:0.402405\tvalidation_0-mlogloss:1.17015\tvalidation_1-merror:0.425595\tvalidation_1-mlogloss:1.23489\n",
      "[48]\tvalidation_0-merror:0.401773\tvalidation_0-mlogloss:1.1674\tvalidation_1-merror:0.424121\tvalidation_1-mlogloss:1.23292\n",
      "[49]\tvalidation_0-merror:0.401352\tvalidation_0-mlogloss:1.16508\tvalidation_1-merror:0.423069\tvalidation_1-mlogloss:1.2314\n",
      "[50]\tvalidation_0-merror:0.400416\tvalidation_0-mlogloss:1.16222\tvalidation_1-merror:0.422648\tvalidation_1-mlogloss:1.2301\n",
      "[51]\tvalidation_0-merror:0.400042\tvalidation_0-mlogloss:1.15959\tvalidation_1-merror:0.42349\tvalidation_1-mlogloss:1.22865\n",
      "[52]\tvalidation_0-merror:0.399387\tvalidation_0-mlogloss:1.1571\tvalidation_1-merror:0.423279\tvalidation_1-mlogloss:1.22722\n",
      "[53]\tvalidation_0-merror:0.398639\tvalidation_0-mlogloss:1.15448\tvalidation_1-merror:0.4237\tvalidation_1-mlogloss:1.22599\n",
      "[54]\tvalidation_0-merror:0.397773\tvalidation_0-mlogloss:1.15223\tvalidation_1-merror:0.424332\tvalidation_1-mlogloss:1.22467\n",
      "[55]\tvalidation_0-merror:0.396744\tvalidation_0-mlogloss:1.14956\tvalidation_1-merror:0.423279\tvalidation_1-mlogloss:1.22335\n",
      "[56]\tvalidation_0-merror:0.396487\tvalidation_0-mlogloss:1.14737\tvalidation_1-merror:0.423069\tvalidation_1-mlogloss:1.22238\n",
      "[57]\tvalidation_0-merror:0.395902\tvalidation_0-mlogloss:1.14541\tvalidation_1-merror:0.422648\tvalidation_1-mlogloss:1.22137\n",
      "[58]\tvalidation_0-merror:0.39527\tvalidation_0-mlogloss:1.14335\tvalidation_1-merror:0.422648\tvalidation_1-mlogloss:1.22028\n",
      "[59]\tvalidation_0-merror:0.394733\tvalidation_0-mlogloss:1.14105\tvalidation_1-merror:0.422437\tvalidation_1-mlogloss:1.21911\n",
      "[60]\tvalidation_0-merror:0.39382\tvalidation_0-mlogloss:1.13888\tvalidation_1-merror:0.422016\tvalidation_1-mlogloss:1.21798\n",
      "[61]\tvalidation_0-merror:0.393165\tvalidation_0-mlogloss:1.13657\tvalidation_1-merror:0.421385\tvalidation_1-mlogloss:1.21694\n",
      "[62]\tvalidation_0-merror:0.392557\tvalidation_0-mlogloss:1.13487\tvalidation_1-merror:0.421385\tvalidation_1-mlogloss:1.21595\n",
      "[63]\tvalidation_0-merror:0.39223\tvalidation_0-mlogloss:1.13294\tvalidation_1-merror:0.421595\tvalidation_1-mlogloss:1.215\n",
      "[64]\tvalidation_0-merror:0.391692\tvalidation_0-mlogloss:1.13124\tvalidation_1-merror:0.422227\tvalidation_1-mlogloss:1.21426\n",
      "[65]\tvalidation_0-merror:0.39106\tvalidation_0-mlogloss:1.12943\tvalidation_1-merror:0.422016\tvalidation_1-mlogloss:1.21354\n",
      "[66]\tvalidation_0-merror:0.390756\tvalidation_0-mlogloss:1.12773\tvalidation_1-merror:0.421174\tvalidation_1-mlogloss:1.2125\n"
     ]
    },
    {
     "name": "stdout",
     "output_type": "stream",
     "text": [
      "[67]\tvalidation_0-merror:0.390218\tvalidation_0-mlogloss:1.12635\tvalidation_1-merror:0.421174\tvalidation_1-mlogloss:1.21185\n",
      "[68]\tvalidation_0-merror:0.38975\tvalidation_0-mlogloss:1.12447\tvalidation_1-merror:0.421174\tvalidation_1-mlogloss:1.21105\n",
      "[69]\tvalidation_0-merror:0.389259\tvalidation_0-mlogloss:1.12291\tvalidation_1-merror:0.421385\tvalidation_1-mlogloss:1.21026\n",
      "[70]\tvalidation_0-merror:0.388791\tvalidation_0-mlogloss:1.1212\tvalidation_1-merror:0.420964\tvalidation_1-mlogloss:1.20956\n",
      "[71]\tvalidation_0-merror:0.388487\tvalidation_0-mlogloss:1.11987\tvalidation_1-merror:0.420333\tvalidation_1-mlogloss:1.2091\n",
      "[72]\tvalidation_0-merror:0.387832\tvalidation_0-mlogloss:1.11769\tvalidation_1-merror:0.420964\tvalidation_1-mlogloss:1.20826\n",
      "[73]\tvalidation_0-merror:0.387154\tvalidation_0-mlogloss:1.11632\tvalidation_1-merror:0.420122\tvalidation_1-mlogloss:1.20755\n",
      "[74]\tvalidation_0-merror:0.386827\tvalidation_0-mlogloss:1.11505\tvalidation_1-merror:0.420333\tvalidation_1-mlogloss:1.20705\n",
      "[75]\tvalidation_0-merror:0.386289\tvalidation_0-mlogloss:1.11335\tvalidation_1-merror:0.419701\tvalidation_1-mlogloss:1.20638\n",
      "[76]\tvalidation_0-merror:0.385914\tvalidation_0-mlogloss:1.11153\tvalidation_1-merror:0.41928\tvalidation_1-mlogloss:1.20559\n",
      "[77]\tvalidation_0-merror:0.385072\tvalidation_0-mlogloss:1.11011\tvalidation_1-merror:0.419491\tvalidation_1-mlogloss:1.20513\n",
      "[78]\tvalidation_0-merror:0.384768\tvalidation_0-mlogloss:1.10863\tvalidation_1-merror:0.418859\tvalidation_1-mlogloss:1.20439\n",
      "[79]\tvalidation_0-merror:0.384137\tvalidation_0-mlogloss:1.10696\tvalidation_1-merror:0.418228\tvalidation_1-mlogloss:1.20377\n",
      "[80]\tvalidation_0-merror:0.383786\tvalidation_0-mlogloss:1.1058\tvalidation_1-merror:0.418649\tvalidation_1-mlogloss:1.20344\n",
      "[81]\tvalidation_0-merror:0.383342\tvalidation_0-mlogloss:1.10404\tvalidation_1-merror:0.418859\tvalidation_1-mlogloss:1.20268\n",
      "[82]\tvalidation_0-merror:0.383014\tvalidation_0-mlogloss:1.10252\tvalidation_1-merror:0.418017\tvalidation_1-mlogloss:1.20199\n",
      "[83]\tvalidation_0-merror:0.382546\tvalidation_0-mlogloss:1.10113\tvalidation_1-merror:0.418228\tvalidation_1-mlogloss:1.20145\n",
      "[84]\tvalidation_0-merror:0.381868\tvalidation_0-mlogloss:1.09975\tvalidation_1-merror:0.417807\tvalidation_1-mlogloss:1.201\n",
      "[85]\tvalidation_0-merror:0.38154\tvalidation_0-mlogloss:1.0982\tvalidation_1-merror:0.417386\tvalidation_1-mlogloss:1.20046\n",
      "[86]\tvalidation_0-merror:0.380652\tvalidation_0-mlogloss:1.09668\tvalidation_1-merror:0.417596\tvalidation_1-mlogloss:1.19991\n",
      "[87]\tvalidation_0-merror:0.380698\tvalidation_0-mlogloss:1.09527\tvalidation_1-merror:0.417175\tvalidation_1-mlogloss:1.19943\n",
      "[88]\tvalidation_0-merror:0.380348\tvalidation_0-mlogloss:1.09419\tvalidation_1-merror:0.418017\tvalidation_1-mlogloss:1.19906\n",
      "[89]\tvalidation_0-merror:0.38002\tvalidation_0-mlogloss:1.09305\tvalidation_1-merror:0.418017\tvalidation_1-mlogloss:1.19865\n",
      "[90]\tvalidation_0-merror:0.379459\tvalidation_0-mlogloss:1.09195\tvalidation_1-merror:0.417386\tvalidation_1-mlogloss:1.19836\n",
      "[91]\tvalidation_0-merror:0.379178\tvalidation_0-mlogloss:1.09081\tvalidation_1-merror:0.417596\tvalidation_1-mlogloss:1.19797\n",
      "[92]\tvalidation_0-merror:0.378897\tvalidation_0-mlogloss:1.08957\tvalidation_1-merror:0.417596\tvalidation_1-mlogloss:1.19754\n",
      "[93]\tvalidation_0-merror:0.378547\tvalidation_0-mlogloss:1.08827\tvalidation_1-merror:0.417596\tvalidation_1-mlogloss:1.19706\n",
      "[94]\tvalidation_0-merror:0.378009\tvalidation_0-mlogloss:1.08725\tvalidation_1-merror:0.417386\tvalidation_1-mlogloss:1.19676\n",
      "[95]\tvalidation_0-merror:0.377705\tvalidation_0-mlogloss:1.08592\tvalidation_1-merror:0.417386\tvalidation_1-mlogloss:1.19668\n",
      "[96]\tvalidation_0-merror:0.377283\tvalidation_0-mlogloss:1.08449\tvalidation_1-merror:0.418228\tvalidation_1-mlogloss:1.19619\n",
      "[97]\tvalidation_0-merror:0.37705\tvalidation_0-mlogloss:1.08349\tvalidation_1-merror:0.418228\tvalidation_1-mlogloss:1.19576\n",
      "[98]\tvalidation_0-merror:0.376722\tvalidation_0-mlogloss:1.08245\tvalidation_1-merror:0.417386\tvalidation_1-mlogloss:1.19558\n",
      "[99]\tvalidation_0-merror:0.376371\tvalidation_0-mlogloss:1.08146\tvalidation_1-merror:0.418017\tvalidation_1-mlogloss:1.19535\n"
     ]
    },
    {
     "data": {
      "text/plain": [
       "XGBClassifier(alpha=0.8, base_score=0.5, booster='gbtree',\n",
       "       colsample_bylevel=1, colsample_bytree=1, eta=0.1, gamma=0,\n",
       "       learning_rate=0.1, max_delta_step=0, max_depth=7,\n",
       "       min_child_weight=1, missing=None, n_estimators=100, n_jobs=1,\n",
       "       nthread=None, num_class=7, objective='multi:softprob',\n",
       "       random_state=0, reg_alpha=0, reg_lambda=50, scale_pos_weight=1,\n",
       "       seed=None, silent=True, subsample=1, verbosity=1)"
      ]
     },
     "execution_count": 15,
     "metadata": {},
     "output_type": "execute_result"
    }
   ],
   "source": [
    "model = XGBClassifier(learning_rate=0.01,max_depth= 7,eta= 0.1,verbosity= 1,objective= 'multi:softprob',num_class= 7,reg_lambda=0)\n",
    "eval_set = [(X_train, y_train), (X_test, y_test)]\n",
    "model.fit(X_train,y_train,eval_metric=['merror','mlogloss'],eval_set=eval_set, verbose=True)"
   ]
  },
  {
   "cell_type": "code",
   "execution_count": 38,
   "metadata": {},
   "outputs": [
    {
     "name": "stderr",
     "output_type": "stream",
     "text": [
      "[Parallel(n_jobs=-1)]: Using backend LokyBackend with 8 concurrent workers.\n",
      "[Parallel(n_jobs=-1)]: Done   2 out of   5 | elapsed:  2.5min remaining:  3.8min\n",
      "[Parallel(n_jobs=-1)]: Done   5 out of   5 | elapsed:  2.6min finished\n"
     ]
    },
    {
     "name": "stdout",
     "output_type": "stream",
     "text": [
      "[0.5748188  0.57792587 0.57572214 0.56883846 0.57102738]\n",
      "0.5736665303633456\n"
     ]
    }
   ],
   "source": [
    "model = XGBClassifier(n_estimators=90,max_depth=6,min_child_weight=5,eta=0.01,verbosity= 1,colsample_bytree=0.5,objective= 'multi:softprob',num_class= 8)\n",
    "scores = cross_val_score(model, X_train, y_train, cv=5,n_jobs=-1,verbose=1)\n",
    "predictions = cross_val_predict(model, X_train,y_train,cv=5,n_jobs=3)\n",
    "r2 = metrics.r2_score(y_train, predictions)\n",
    "print(scores)\n",
    "print(scores.mean())"
   ]
  },
  {
   "cell_type": "markdown",
   "metadata": {},
   "source": [
    "CV Results - XGBClassifier(max_depth= 7,eta= 0.1,verbosity= 1,objective= 'multi:softprob',num_class=8,alpha=0.8,reg_lambda=50)\n",
    "\n",
    "[0.57657236 0.57780896 0.57595603 0.56743479 0.56938919]\n",
    "0.5734322647763243\n",
    "\n",
    "CV Results - n_estimators=90,max_depth=5,eta=0.1,verbosity= 1,colsample_bytree=0.5,objective= 'multi:softprob',num_class= 8,reg_lambda=0\n",
    "\n",
    "[0.57610475 0.57359991 0.57595603 0.56392561 0.57126141]\n",
    "0.572169539099591\n",
    "\n",
    "n_estimators=90,max_depth=5,eta=0.01,verbosity= 1,colsample_bytree=0.5,objective= 'multi:softprob',num_class= 8,reg_lambda=0)\n",
    "\n",
    "[0.57610475 0.57359991 0.57595603 0.56392561 0.57126141]\n",
    "0.572169539099591"
   ]
  },
  {
   "cell_type": "code",
   "execution_count": null,
   "metadata": {},
   "outputs": [],
   "source": [
    "y_pred = model.predict(X_test)\n",
    "predictions = [round(value) for value in y_pred]"
   ]
  },
  {
   "cell_type": "code",
   "execution_count": null,
   "metadata": {},
   "outputs": [],
   "source": [
    "from sklearn.metrics import accuracy_score\n",
    "accuracy = accuracy_score(y_test, predictions)\n",
    "print(\"Accuracy: %.2f%%\" % (accuracy * 100.0))"
   ]
  },
  {
   "cell_type": "markdown",
   "metadata": {},
   "source": [
    "### XGBoost - Grid Search for Best Parameters"
   ]
  },
  {
   "cell_type": "code",
   "execution_count": 35,
   "metadata": {},
   "outputs": [],
   "source": [
    "parameters = {'max_depth':[4,5,6,7,8,9],\n",
    "              'lerning_rate':[0.01,0.05,0.1,1],\n",
    "              'gamma':[0,1],\n",
    "              'min_child_weight':[1,5,10,50,100]}"
   ]
  },
  {
   "cell_type": "code",
   "execution_count": 36,
   "metadata": {},
   "outputs": [
    {
     "data": {
      "text/plain": [
       "GridSearchCV(cv=5, error_score='raise-deprecating',\n",
       "       estimator=XGBClassifier(base_score=0.5, booster='gbtree', colsample_bylevel=1,\n",
       "       colsample_bytree=0.5, gamma=0, learning_rate=0.1, max_delta_step=0,\n",
       "       max_depth=3, min_child_weight=1, missing=None, n_estimators=90,\n",
       "       n_jobs=1, nthread=None, num_class=8, objective='multi:softprob',\n",
       "       random_state=0, reg_alpha=0, reg_lambda=1, scale_pos_weight=1,\n",
       "       seed=None, silent=True, subsample=1, verbosity=1),\n",
       "       fit_params=None, iid='warn', n_jobs=-1,\n",
       "       param_grid={'max_depth': [4, 5, 6, 7, 8, 9], 'lerning_rate': [0.01, 0.05, 0.1, 1], 'gamma': [0, 1], 'min_child_weight': [1, 5, 10, 50, 100]},\n",
       "       pre_dispatch='2*n_jobs', refit=True, return_train_score='warn',\n",
       "       scoring=None, verbose=0)"
      ]
     },
     "execution_count": 36,
     "metadata": {},
     "output_type": "execute_result"
    }
   ],
   "source": [
    "model = XGBClassifier(n_estimators=90,colsample_bytree=0.5,verbosity= 1,objective= 'multi:softprob',num_class= 8)\n",
    "grid_search = GridSearchCV(model,param_grid=parameters,cv=5,n_jobs=-1)\n",
    "grid_search.fit(X_test,y_test)"
   ]
  },
  {
   "cell_type": "code",
   "execution_count": 37,
   "metadata": {},
   "outputs": [
    {
     "data": {
      "text/plain": [
       "{'gamma': 1, 'lerning_rate': 0.01, 'max_depth': 6, 'min_child_weight': 5}"
      ]
     },
     "execution_count": 37,
     "metadata": {},
     "output_type": "execute_result"
    }
   ],
   "source": [
    "grid_search.best_params_"
   ]
  },
  {
   "cell_type": "markdown",
   "metadata": {},
   "source": [
    "### XGBoost - Further tuning to reduce overfitting"
   ]
  },
  {
   "cell_type": "code",
   "execution_count": 40,
   "metadata": {},
   "outputs": [
    {
     "name": "stdout",
     "output_type": "stream",
     "text": [
      "baseline:  0.36575211096297333\n",
      "-------------------------------\n",
      "accuracy score - train:  0.5829532430472716\n",
      "accuracy score - test:  0.5701776542898038\n",
      "-------------------------------\n",
      "log loss score - train:  1.1895278844277202\n",
      "log loss score - test:  1.218885442312442\n"
     ]
    }
   ],
   "source": [
    "from xgboost import XGBClassifier\n",
    "model = XGBClassifier(n_estimators=100,max_depth=6,subsample=0.8,min_child_weight=5,eta=0.02,verbosity= 1,colsample_bytree=0.6,objective= 'multi:softprob',num_class= 8,gamma=5,reg_lambda=10,reg_alpha=6)\n",
    "model.fit(X_train.values,y_train)\n",
    "\n",
    "accuracy_score_test = model.score(X_holdout.values,y_holdout)\n",
    "accuracy_score_train = model.score(X_train.values,y_train)\n",
    "\n",
    "y_pred = model.predict_proba(X_holdout.values)\n",
    "log_loss_test = log_loss(y_holdout,y_pred)\n",
    "\n",
    "y_pred = model.predict_proba(X_train.values)\n",
    "log_loss_train = log_loss(y_train,y_pred)\n",
    "\n",
    "print('baseline: ',baseline)\n",
    "print('-------------------------------')\n",
    "print(\"accuracy score - train: \",accuracy_score_train)\n",
    "print(\"accuracy score - test: \",accuracy_score_test)\n",
    "print('-------------------------------')\n",
    "print(\"log loss score - train: \",log_loss_train)\n",
    "print(\"log loss score - test: \",log_loss_test)"
   ]
  },
  {
   "cell_type": "code",
   "execution_count": 29,
   "metadata": {},
   "outputs": [
    {
     "name": "stdout",
     "output_type": "stream",
     "text": [
      "-------------------------------\n",
      "accuracy score - test:  0.5765102083771837\n",
      "-------------------------------\n",
      "log loss score - test:  1.215316698195068\n"
     ]
    }
   ],
   "source": [
    "accuracy_score_test = model.score(X_test.values,y_test)\n",
    "\n",
    "y_pred = model.predict_proba(X_test.values)\n",
    "log_loss_test = log_loss(y_test.values,y_pred)\n",
    "\n",
    "\n",
    "print('-------------------------------')\n",
    "print(\"accuracy score - test: \",accuracy_score_test)\n",
    "print('-------------------------------')\n",
    "print(\"log loss score - test: \",log_loss_test)"
   ]
  },
  {
   "cell_type": "code",
   "execution_count": 18,
   "metadata": {},
   "outputs": [
    {
     "name": "stderr",
     "output_type": "stream",
     "text": [
      "C:\\Users\\Roy\\Anaconda3\\lib\\site-packages\\xgboost\\core.py:587: FutureWarning: Series.base is deprecated and will be removed in a future version\n",
      "  if getattr(data, 'base', None) is not None and \\\n"
     ]
    }
   ],
   "source": [
    "dmatrix = xgb.DMatrix(X_train, label=y_train)\n",
    "# shap_values = explainer.shap_values(dmatrix)"
   ]
  },
  {
   "cell_type": "markdown",
   "metadata": {},
   "source": [
    "## Extra Trees"
   ]
  },
  {
   "cell_type": "code",
   "execution_count": 30,
   "metadata": {},
   "outputs": [],
   "source": [
    "from sklearn.ensemble import ExtraTreesClassifier"
   ]
  },
  {
   "cell_type": "code",
   "execution_count": 32,
   "metadata": {},
   "outputs": [
    {
     "name": "stderr",
     "output_type": "stream",
     "text": [
      "[Parallel(n_jobs=-1)]: Using backend LokyBackend with 8 concurrent workers.\n",
      "[Parallel(n_jobs=-1)]: Done   2 out of   5 | elapsed:    2.4s remaining:    3.6s\n",
      "[Parallel(n_jobs=-1)]: Done   5 out of   5 | elapsed:    4.1s finished\n"
     ]
    },
    {
     "name": "stdout",
     "output_type": "stream",
     "text": [
      "[0.53320084 0.53513387 0.5411063  0.52567552 0.52527498]\n",
      "0.5320783032552917\n",
      "0.06869960644352158\n"
     ]
    }
   ],
   "source": [
    "extra_tree = ExtraTreesClassifier(max_depth=10,max_features=100,\n",
    "                                 bootstrap=True,n_jobs=-1,\n",
    "                                 random_state=1,verbose=1)\n",
    "scores = cross_val_score(extra_tree, X_train, y_train, cv=5,n_jobs=-1,verbose=1)\n",
    "predictions = cross_val_predict(extra_tree, X_train,y_train,cv=5,n_jobs=3)\n",
    "r2 = metrics.r2_score(y_train, predictions)\n",
    "print(scores)\n",
    "print(scores.mean())\n",
    "print(r2)"
   ]
  },
  {
   "cell_type": "markdown",
   "metadata": {},
   "source": [
    "## Ensemble - Voting Classifier"
   ]
  },
  {
   "cell_type": "code",
   "execution_count": 36,
   "metadata": {},
   "outputs": [],
   "source": [
    "from sklearn.ensemble import VotingClassifier\n",
    "\n",
    "estimators=[('rf', forest),('xgboost', model)]\n",
    "\n",
    "ensemble = VotingClassifier(estimators, voting='hard')"
   ]
  },
  {
   "cell_type": "code",
   "execution_count": 37,
   "metadata": {},
   "outputs": [
    {
     "name": "stderr",
     "output_type": "stream",
     "text": [
      "[Parallel(n_jobs=1)]: Using backend SequentialBackend with 1 concurrent workers.\n",
      "[Parallel(n_jobs=1)]: Done  10 out of  10 | elapsed:    0.2s finished\n"
     ]
    },
    {
     "data": {
      "text/plain": [
       "VotingClassifier(estimators=[('rf', RandomForestClassifier(bootstrap=True, class_weight=None, criterion='gini',\n",
       "            max_depth=5, max_features='auto', max_leaf_nodes=30,\n",
       "            min_impurity_decrease=0.0, min_impurity_split=None,\n",
       "            min_samples_leaf=1, min_samples_split=2,\n",
       "            min_weight_...a=6, reg_lambda=10, scale_pos_weight=1,\n",
       "       seed=None, silent=None, subsample=0.8, verbosity=1))],\n",
       "         flatten_transform=None, n_jobs=None, voting='hard', weights=None)"
      ]
     },
     "execution_count": 37,
     "metadata": {},
     "output_type": "execute_result"
    }
   ],
   "source": [
    "ensemble.fit(X_train, y_train)"
   ]
  },
  {
   "cell_type": "code",
   "execution_count": 38,
   "metadata": {},
   "outputs": [
    {
     "name": "stderr",
     "output_type": "stream",
     "text": [
      "[Parallel(n_jobs=1)]: Using backend SequentialBackend with 1 concurrent workers.\n",
      "[Parallel(n_jobs=1)]: Done  10 out of  10 | elapsed:    0.0s finished\n"
     ]
    },
    {
     "name": "stdout",
     "output_type": "stream",
     "text": [
      "0.5733632727527893\n"
     ]
    },
    {
     "name": "stderr",
     "output_type": "stream",
     "text": [
      "[Parallel(n_jobs=1)]: Using backend SequentialBackend with 1 concurrent workers.\n",
      "[Parallel(n_jobs=1)]: Done  10 out of  10 | elapsed:    0.0s finished\n"
     ]
    },
    {
     "name": "stdout",
     "output_type": "stream",
     "text": [
      "0.5649336981688066\n"
     ]
    }
   ],
   "source": [
    "print(ensemble.score(X_train, y_train))\n",
    "print(ensemble.score(X_test, y_test))"
   ]
  },
  {
   "cell_type": "markdown",
   "metadata": {},
   "source": [
    "## Ensemble  Attempt\n",
    "\n",
    "Manual attempt at creating an ensamble. This was also done through a package in the model comparison workbook."
   ]
  },
  {
   "cell_type": "code",
   "execution_count": 79,
   "metadata": {},
   "outputs": [],
   "source": [
    "meta_learner = GradientBoostingClassifier(n_estimators=1000,max_depth=5,subsample=0.8,learning_rate=0.001,random_state=20)\n",
    "xtrain_base, xpred_base, ytrain_base, ypred_base = train_test_split(X_train, y_train, test_size=0.5, random_state=10)"
   ]
  },
  {
   "cell_type": "code",
   "execution_count": 80,
   "metadata": {},
   "outputs": [],
   "source": [
    "lr = LogisticRegression(multi_class='auto', solver = 'liblinear')\n",
    "forest = RandomForestClassifier(max_depth=5,max_leaf_nodes=30,verbose=1)\n",
    "xgb = XGBClassifier(n_estimators=100,max_depth=6,subsample=0.8,min_child_weight=5,eta=0.02,\n",
    "                    verbosity= 1,colsample_bytree=0.6,objective= 'multi:softprob',num_class= 8,\n",
    "                    gamma=5,reg_lambda=10,reg_alpha=6)\n",
    "extra_tree = ExtraTreesClassifier(max_depth=10,max_features=100,\n",
    "                                 bootstrap=True,n_jobs=-1,\n",
    "                                 random_state=1,verbose=1)"
   ]
  },
  {
   "cell_type": "code",
   "execution_count": null,
   "metadata": {},
   "outputs": [],
   "source": []
  },
  {
   "cell_type": "code",
   "execution_count": 81,
   "metadata": {},
   "outputs": [],
   "source": [
    "def train_base_learners(base_learners, inp, out, verbose=True): ## Just fitting models here\n",
    "    if verbose: print(\"Fitting models.\")\n",
    "    for i, (name, m) in enumerate(base_learners.items()):\n",
    "        if verbose: print(\"%s...\" % name, end=\" \", flush=False)\n",
    "        m.fit(inp, out) ## main line\n",
    "        if verbose: print(\"done\")\n",
    "    \n",
    "            \n",
    "def predict_base_learners(pred_base_learners, inp, verbose=True):\n",
    "    P = np.zeros((inp.shape[0], len(pred_base_learners)))\n",
    "    if verbose: print(\"Generating base learner predictions.\")\n",
    "    for i, (name, m) in enumerate(pred_base_learners.items()):\n",
    "        if verbose: print(\"%s...\" % name, end=\" \", flush=False)\n",
    "        p = m.predict(inp) #predicting using base learners and creating a np array of the results from all the base learners.\n",
    "        P[:, i] = p\n",
    "        if verbose: print(\"done\")\n",
    "    return P"
   ]
  },
  {
   "cell_type": "code",
   "execution_count": 87,
   "metadata": {},
   "outputs": [
    {
     "name": "stdout",
     "output_type": "stream",
     "text": [
      "Fitting models.\n",
      "lr... done\n",
      "xgb... done\n"
     ]
    }
   ],
   "source": [
    "#attempted various combinations of the 4 models. The last testd was as below (LR and XGB only)\n",
    "train_base_learners({'lr':lr,'xgb':xgb}, xtrain_base, ytrain_base,verbose=True)"
   ]
  },
  {
   "cell_type": "code",
   "execution_count": 88,
   "metadata": {},
   "outputs": [
    {
     "name": "stdout",
     "output_type": "stream",
     "text": [
      "Generating base learner predictions.\n",
      "lr... done\n",
      "xgb... "
     ]
    },
    {
     "name": "stderr",
     "output_type": "stream",
     "text": [
      "C:\\Users\\Roy\\Anaconda3\\lib\\site-packages\\numpy\\core\\_methods.py:36: RuntimeWarning: overflow encountered in reduce\n",
      "  return umr_sum(a, axis, dtype, out, keepdims, initial)\n"
     ]
    },
    {
     "name": "stdout",
     "output_type": "stream",
     "text": [
      "done\n"
     ]
    }
   ],
   "source": [
    "P_base = predict_base_learners({'lr':lr,'xgb':xgb}, xpred_base)"
   ]
  },
  {
   "cell_type": "code",
   "execution_count": 89,
   "metadata": {},
   "outputs": [
    {
     "data": {
      "text/plain": [
       "GradientBoostingClassifier(criterion='friedman_mse', init=None,\n",
       "              learning_rate=0.001, loss='deviance', max_depth=5,\n",
       "              max_features=None, max_leaf_nodes=None,\n",
       "              min_impurity_decrease=0.0, min_impurity_split=None,\n",
       "              min_samples_leaf=1, min_samples_split=2,\n",
       "              min_weight_fraction_leaf=0.0, n_estimators=1000,\n",
       "              n_iter_no_change=None, presort='auto', random_state=20,\n",
       "              subsample=0.8, tol=0.0001, validation_fraction=0.1,\n",
       "              verbose=0, warm_start=False)"
      ]
     },
     "execution_count": 89,
     "metadata": {},
     "output_type": "execute_result"
    }
   ],
   "source": [
    "meta_learner.fit(P_base, ypred_base) # fitting meta learning which is a Gradient Boosting Classifier defined previously"
   ]
  },
  {
   "cell_type": "code",
   "execution_count": 91,
   "metadata": {},
   "outputs": [],
   "source": [
    "from sklearn.metrics import accuracy_score"
   ]
  },
  {
   "cell_type": "code",
   "execution_count": 92,
   "metadata": {},
   "outputs": [],
   "source": [
    "base_learners = {'lr':lr,'xgb':xgb}\n",
    "\n",
    "def ensemble_predict(base_learners, meta_learner, inp, verbose=True):\n",
    "    P_pred = predict_base_learners(base_learners, inp, verbose=verbose)\n",
    "    return P_pred, meta_learner.predict(P_pred)"
   ]
  },
  {
   "cell_type": "code",
   "execution_count": 93,
   "metadata": {},
   "outputs": [
    {
     "name": "stdout",
     "output_type": "stream",
     "text": [
      "Generating base learner predictions.\n",
      "lr... done\n",
      "xgb... "
     ]
    },
    {
     "name": "stderr",
     "output_type": "stream",
     "text": [
      "C:\\Users\\Roy\\Anaconda3\\lib\\site-packages\\numpy\\core\\_methods.py:36: RuntimeWarning: overflow encountered in reduce\n",
      "  return umr_sum(a, axis, dtype, out, keepdims, initial)\n"
     ]
    },
    {
     "name": "stdout",
     "output_type": "stream",
     "text": [
      "done\n",
      "\n",
      "Ensemble y_holdout score: 0.559\n"
     ]
    }
   ],
   "source": [
    "P_pred, p = ensemble_predict(base_learners, meta_learner, X_holdout)\n",
    "print(\"\\nEnsemble y_holdout score: %.3f\" % accuracy_score(y_holdout, p))"
   ]
  },
  {
   "cell_type": "code",
   "execution_count": 94,
   "metadata": {
    "collapsed": true
   },
   "outputs": [
    {
     "ename": "NotFittedError",
     "evalue": "This RandomForestClassifier instance is not fitted yet. Call 'fit' with appropriate arguments before using this method.",
     "output_type": "error",
     "traceback": [
      "\u001b[1;31m---------------------------------------------------------------------------\u001b[0m",
      "\u001b[1;31mNotFittedError\u001b[0m                            Traceback (most recent call last)",
      "\u001b[1;32m<ipython-input-94-22e96dda2924>\u001b[0m in \u001b[0;36m<module>\u001b[1;34m\u001b[0m\n\u001b[1;32m----> 1\u001b[1;33m \u001b[0mtesty\u001b[0m\u001b[1;33m=\u001b[0m\u001b[0mforest\u001b[0m\u001b[1;33m.\u001b[0m\u001b[0mpredict_proba\u001b[0m\u001b[1;33m(\u001b[0m\u001b[0mX_test\u001b[0m\u001b[1;33m)\u001b[0m\u001b[1;33m\u001b[0m\u001b[1;33m\u001b[0m\u001b[0m\n\u001b[0m",
      "\u001b[1;32m~\\Anaconda3\\lib\\site-packages\\sklearn\\ensemble\\forest.py\u001b[0m in \u001b[0;36mpredict_proba\u001b[1;34m(self, X)\u001b[0m\n\u001b[0;32m    579\u001b[0m             \u001b[0mclasses\u001b[0m \u001b[0mcorresponds\u001b[0m \u001b[0mto\u001b[0m \u001b[0mthat\u001b[0m \u001b[1;32min\u001b[0m \u001b[0mthe\u001b[0m \u001b[0mattribute\u001b[0m\u001b[0;31m \u001b[0m\u001b[0;31m`\u001b[0m\u001b[0mclasses_\u001b[0m\u001b[0;31m`\u001b[0m\u001b[1;33m.\u001b[0m\u001b[1;33m\u001b[0m\u001b[1;33m\u001b[0m\u001b[0m\n\u001b[0;32m    580\u001b[0m         \"\"\"\n\u001b[1;32m--> 581\u001b[1;33m         \u001b[0mcheck_is_fitted\u001b[0m\u001b[1;33m(\u001b[0m\u001b[0mself\u001b[0m\u001b[1;33m,\u001b[0m \u001b[1;34m'estimators_'\u001b[0m\u001b[1;33m)\u001b[0m\u001b[1;33m\u001b[0m\u001b[1;33m\u001b[0m\u001b[0m\n\u001b[0m\u001b[0;32m    582\u001b[0m         \u001b[1;31m# Check data\u001b[0m\u001b[1;33m\u001b[0m\u001b[1;33m\u001b[0m\u001b[1;33m\u001b[0m\u001b[0m\n\u001b[0;32m    583\u001b[0m         \u001b[0mX\u001b[0m \u001b[1;33m=\u001b[0m \u001b[0mself\u001b[0m\u001b[1;33m.\u001b[0m\u001b[0m_validate_X_predict\u001b[0m\u001b[1;33m(\u001b[0m\u001b[0mX\u001b[0m\u001b[1;33m)\u001b[0m\u001b[1;33m\u001b[0m\u001b[1;33m\u001b[0m\u001b[0m\n",
      "\u001b[1;32m~\\Anaconda3\\lib\\site-packages\\sklearn\\utils\\validation.py\u001b[0m in \u001b[0;36mcheck_is_fitted\u001b[1;34m(estimator, attributes, msg, all_or_any)\u001b[0m\n\u001b[0;32m    949\u001b[0m \u001b[1;33m\u001b[0m\u001b[0m\n\u001b[0;32m    950\u001b[0m     \u001b[1;32mif\u001b[0m \u001b[1;32mnot\u001b[0m \u001b[0mall_or_any\u001b[0m\u001b[1;33m(\u001b[0m\u001b[1;33m[\u001b[0m\u001b[0mhasattr\u001b[0m\u001b[1;33m(\u001b[0m\u001b[0mestimator\u001b[0m\u001b[1;33m,\u001b[0m \u001b[0mattr\u001b[0m\u001b[1;33m)\u001b[0m \u001b[1;32mfor\u001b[0m \u001b[0mattr\u001b[0m \u001b[1;32min\u001b[0m \u001b[0mattributes\u001b[0m\u001b[1;33m]\u001b[0m\u001b[1;33m)\u001b[0m\u001b[1;33m:\u001b[0m\u001b[1;33m\u001b[0m\u001b[1;33m\u001b[0m\u001b[0m\n\u001b[1;32m--> 951\u001b[1;33m         \u001b[1;32mraise\u001b[0m \u001b[0mNotFittedError\u001b[0m\u001b[1;33m(\u001b[0m\u001b[0mmsg\u001b[0m \u001b[1;33m%\u001b[0m \u001b[1;33m{\u001b[0m\u001b[1;34m'name'\u001b[0m\u001b[1;33m:\u001b[0m \u001b[0mtype\u001b[0m\u001b[1;33m(\u001b[0m\u001b[0mestimator\u001b[0m\u001b[1;33m)\u001b[0m\u001b[1;33m.\u001b[0m\u001b[0m__name__\u001b[0m\u001b[1;33m}\u001b[0m\u001b[1;33m)\u001b[0m\u001b[1;33m\u001b[0m\u001b[1;33m\u001b[0m\u001b[0m\n\u001b[0m\u001b[0;32m    952\u001b[0m \u001b[1;33m\u001b[0m\u001b[0m\n\u001b[0;32m    953\u001b[0m \u001b[1;33m\u001b[0m\u001b[0m\n",
      "\u001b[1;31mNotFittedError\u001b[0m: This RandomForestClassifier instance is not fitted yet. Call 'fit' with appropriate arguments before using this method."
     ]
    }
   ],
   "source": [
    "testy=forest.predict_proba(X_test)"
   ]
  },
  {
   "cell_type": "code",
   "execution_count": 53,
   "metadata": {},
   "outputs": [
    {
     "data": {
      "text/plain": [
       "(4751, 8)"
      ]
     },
     "execution_count": 53,
     "metadata": {},
     "output_type": "execute_result"
    }
   ],
   "source": [
    "testy[:,0:8].shape"
   ]
  },
  {
   "cell_type": "code",
   "execution_count": 58,
   "metadata": {},
   "outputs": [
    {
     "name": "stderr",
     "output_type": "stream",
     "text": [
      "[Parallel(n_jobs=8)]: Using backend ThreadingBackend with 8 concurrent workers.\n",
      "[Parallel(n_jobs=8)]: Done   6 out of  10 | elapsed:    0.0s remaining:    0.0s\n",
      "[Parallel(n_jobs=8)]: Done  10 out of  10 | elapsed:    0.0s finished\n"
     ]
    },
    {
     "data": {
      "text/plain": [
       "0.5270469374868448"
      ]
     },
     "execution_count": 58,
     "metadata": {},
     "output_type": "execute_result"
    }
   ],
   "source": [
    "extra_tree.score(X_test,y_test)"
   ]
  }
 ],
 "metadata": {
  "kernelspec": {
   "display_name": "Python 3",
   "language": "python",
   "name": "python3"
  },
  "language_info": {
   "codemirror_mode": {
    "name": "ipython",
    "version": 3
   },
   "file_extension": ".py",
   "mimetype": "text/x-python",
   "name": "python",
   "nbconvert_exporter": "python",
   "pygments_lexer": "ipython3",
   "version": "3.7.3"
  }
 },
 "nbformat": 4,
 "nbformat_minor": 2
}
